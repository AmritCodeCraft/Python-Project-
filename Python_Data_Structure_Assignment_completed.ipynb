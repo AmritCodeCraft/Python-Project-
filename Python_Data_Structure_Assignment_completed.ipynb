{
  "cells": [
    {
      "cell_type": "markdown",
      "id": "jGxqF4aIjNSq",
      "metadata": {
        "id": "jGxqF4aIjNSq"
      },
      "source": [
        "<a id='1'></a><center> <h3 style=\"background-color:orange; color:white\" ><br>Python Data Structures<br></h3>"
      ]
    },
    {
      "cell_type": "markdown",
      "id": "Kk7KNIBPUA-0",
      "metadata": {
        "id": "Kk7KNIBPUA-0"
      },
      "source": [
        "# `Types of Data Structures:`\n",
        "* `List` | `Tuple`\n",
        "* `Set` | `Dictionary`"
      ]
    },
    {
      "cell_type": "markdown",
      "id": "AobnaOlTUA-1",
      "metadata": {
        "id": "AobnaOlTUA-1"
      },
      "source": [
        "|Data Structures type|Mutable|Comments|Indexing|Ordered|Duplicacy|\n",
        "|----|----|----|----|----|----|\n",
        "tuple ()|immutable|immutable version of list| possible|yes |allowed |\n",
        "list []|mutable|-|possible |yes | allowed |\n",
        "set {}|mutable| -|not |no |not |\n",
        "dict {key:value}|mutable|-|possible |no |not  |"
      ]
    },
    {
      "cell_type": "markdown",
      "id": "9hM4zvgDUA-2",
      "metadata": {
        "id": "9hM4zvgDUA-2"
      },
      "source": [
        "💫 `immutable` => `can't be changed` <br>\n",
        "💫 `mutable` => `can be changed`"
      ]
    },
    {
      "cell_type": "code",
      "execution_count": null,
      "id": "XujUtHseUA-3",
      "metadata": {
        "id": "XujUtHseUA-3"
      },
      "outputs": [],
      "source": []
    },
    {
      "cell_type": "markdown",
      "id": "Tyavi31ZjNSw",
      "metadata": {
        "id": "Tyavi31ZjNSw"
      },
      "source": [
        "## Lists\n",
        "\n"
      ]
    },
    {
      "cell_type": "markdown",
      "id": "tkDQdRdUjNSy",
      "metadata": {
        "id": "tkDQdRdUjNSy"
      },
      "source": [
        "### Create an empty list with the name ‘a’, print the value of a and type(a).\n"
      ]
    },
    {
      "cell_type": "code",
      "execution_count": 1,
      "id": "a6i4yNGvjNSz",
      "metadata": {
        "id": "a6i4yNGvjNSz"
      },
      "outputs": [],
      "source": [
        "# create empty list, name it 'a'\n",
        "a=[]\n"
      ]
    },
    {
      "cell_type": "code",
      "execution_count": 2,
      "id": "M8FMNQEgjNS0",
      "metadata": {
        "id": "M8FMNQEgjNS0",
        "outputId": "1c68f8c7-1ec7-4fc9-a69b-e97553563957",
        "colab": {
          "base_uri": "https://localhost:8080/"
        }
      },
      "outputs": [
        {
          "output_type": "stream",
          "name": "stdout",
          "text": [
            "[]\n"
          ]
        }
      ],
      "source": [
        "# print the value of a\n",
        "print (a)\n"
      ]
    },
    {
      "cell_type": "code",
      "execution_count": null,
      "id": "Jfc9sg1vjNS1",
      "metadata": {
        "id": "Jfc9sg1vjNS1",
        "outputId": "713c1ed9-01bf-483e-b3a0-1c0202278629"
      },
      "outputs": [
        {
          "name": "stdout",
          "output_type": "stream",
          "text": [
            "<class 'list'>\n"
          ]
        }
      ],
      "source": [
        "# print the type of a\n",
        "print(type(a))"
      ]
    },
    {
      "cell_type": "markdown",
      "id": "UNpN9_w4jNS1",
      "metadata": {
        "id": "UNpN9_w4jNS1"
      },
      "source": [
        "### Create a list , languages = ['R','Python', 'SAS', 'Scala', 42],"
      ]
    },
    {
      "cell_type": "code",
      "execution_count": null,
      "id": "x-TG-vc5jNS2",
      "metadata": {
        "id": "x-TG-vc5jNS2",
        "outputId": "db077e24-57b6-4111-bbf7-08500315c3ff"
      },
      "outputs": [
        {
          "name": "stdout",
          "output_type": "stream",
          "text": [
            "['R', 'Python', 'SAS', 'Scala', 42]\n"
          ]
        }
      ],
      "source": [
        "# Create the list\n",
        "languages = ['R', 'Python', 'SAS', 'Scala', 42]\n",
        "\n",
        "# Print the value of the list\n",
        "print(languages)\n"
      ]
    },
    {
      "cell_type": "markdown",
      "id": "JDSIK8TbjNS3",
      "metadata": {
        "id": "JDSIK8TbjNS3"
      },
      "source": [
        "Print the number of elements in the list"
      ]
    },
    {
      "cell_type": "code",
      "execution_count": null,
      "id": "C4lBMaM8jNS3",
      "metadata": {
        "id": "C4lBMaM8jNS3",
        "outputId": "2047ca7b-4bae-4485-d07d-4077fff21cf5"
      },
      "outputs": [
        {
          "name": "stdout",
          "output_type": "stream",
          "text": [
            "5\n"
          ]
        }
      ],
      "source": [
        "# Create the list\n",
        "languages = ['R', 'Python', 'SAS', 'Scala', 42]\n",
        "\n",
        "# Print the number of elements in the list\n",
        "print(len(languages))\n"
      ]
    },
    {
      "cell_type": "markdown",
      "id": "EyzO_pcnjNS3",
      "metadata": {
        "id": "EyzO_pcnjNS3"
      },
      "source": [
        "Using for loop iterate and print all the elements in the list"
      ]
    },
    {
      "cell_type": "code",
      "execution_count": null,
      "id": "TyM54ydsjNS4",
      "metadata": {
        "id": "TyM54ydsjNS4",
        "outputId": "c0b3a6d1-0897-4f80-db1a-243f8dd5eb33"
      },
      "outputs": [
        {
          "name": "stdout",
          "output_type": "stream",
          "text": [
            "R\n",
            "Python\n",
            "SAS\n",
            "Scala\n",
            "42\n"
          ]
        }
      ],
      "source": [
        "# Create the list\n",
        "languages = ['R', 'Python', 'SAS', 'Scala', 42]\n",
        "\n",
        "# Iterate and print each element in the list\n",
        "for language in languages:\n",
        "    print(language)\n",
        "\n",
        "\n"
      ]
    },
    {
      "cell_type": "markdown",
      "id": "eC1fqz9LjNS4",
      "metadata": {
        "id": "eC1fqz9LjNS4"
      },
      "source": [
        "Select the second item, 'Python' and store it in a new variable named 'temp'"
      ]
    },
    {
      "cell_type": "code",
      "execution_count": null,
      "id": "KY0KhRlOjNS4",
      "metadata": {
        "id": "KY0KhRlOjNS4",
        "outputId": "f0c4447d-c7a5-4ad8-fd0d-b5e114a26c60"
      },
      "outputs": [
        {
          "name": "stdout",
          "output_type": "stream",
          "text": [
            "Python\n"
          ]
        }
      ],
      "source": [
        "# Create the list\n",
        "languages = ['R', 'Python', 'SAS', 'Scala', 42]\n",
        "\n",
        "# Select the second item and store it in a new variable\n",
        "temp = languages[1]\n",
        "\n",
        "# Print the value of temp\n",
        "print(temp)\n"
      ]
    },
    {
      "cell_type": "markdown",
      "id": "breORMa_jNS4",
      "metadata": {
        "id": "breORMa_jNS4"
      },
      "source": [
        "Print the value of temp and type(temp)"
      ]
    },
    {
      "cell_type": "code",
      "execution_count": null,
      "id": "MbvX2aIgjNS5",
      "metadata": {
        "id": "MbvX2aIgjNS5",
        "outputId": "ffc5b86c-20d4-40d7-84f9-dbeabd6fd669"
      },
      "outputs": [
        {
          "name": "stdout",
          "output_type": "stream",
          "text": [
            "Python\n",
            "<class 'str'>\n"
          ]
        }
      ],
      "source": [
        "# Create the list\n",
        "languages = ['R', 'Python', 'SAS', 'Scala', 42]\n",
        "\n",
        "# Select the second item and store it in a new variable\n",
        "temp = languages[1]\n",
        "\n",
        "# Print the value of temp\n",
        "print(temp)\n",
        "\n",
        "# Print the type of temp\n",
        "print(type(temp))\n",
        "\n",
        "\n"
      ]
    },
    {
      "cell_type": "markdown",
      "id": "I4MrKlAUjNS5",
      "metadata": {
        "id": "I4MrKlAUjNS5"
      },
      "source": [
        "Append the element 'Java' in the list"
      ]
    },
    {
      "cell_type": "code",
      "execution_count": null,
      "id": "rOtqZY6PjNS6",
      "metadata": {
        "id": "rOtqZY6PjNS6",
        "outputId": "1ad82ca5-9810-45c1-9573-c6847ebbd336"
      },
      "outputs": [
        {
          "name": "stdout",
          "output_type": "stream",
          "text": [
            "['R', 'Python', 'SAS', 'Scala', 42, 'Java']\n"
          ]
        }
      ],
      "source": [
        "# Create the list\n",
        "languages = ['R', 'Python', 'SAS', 'Scala', 42]\n",
        "\n",
        "# Append the element 'Java' to the list\n",
        "languages.append('Java')\n",
        "\n",
        "# Print the updated list\n",
        "print(languages)\n",
        "\n"
      ]
    },
    {
      "cell_type": "markdown",
      "id": "ksEn8qvFjNS6",
      "metadata": {
        "id": "ksEn8qvFjNS6"
      },
      "source": [
        "Remove the element 42 from the list and print the list"
      ]
    },
    {
      "cell_type": "code",
      "execution_count": null,
      "id": "Lxuzfc1bjNS6",
      "metadata": {
        "id": "Lxuzfc1bjNS6",
        "outputId": "c81efc42-272f-40d8-c5c2-b138582242be"
      },
      "outputs": [
        {
          "name": "stdout",
          "output_type": "stream",
          "text": [
            "['R', 'Python', 'SAS', 'Scala', 'Java']\n"
          ]
        }
      ],
      "source": [
        "# Create the list\n",
        "languages = ['R', 'Python', 'SAS', 'Scala', 42, 'Java']\n",
        "\n",
        "# Remove the element 42 from the list\n",
        "languages.remove(42)\n",
        "\n",
        "# Print the updated list\n",
        "print(languages)\n",
        "\n",
        "\n"
      ]
    },
    {
      "cell_type": "markdown",
      "id": "19MjI0w6jNS6",
      "metadata": {
        "id": "19MjI0w6jNS6"
      },
      "source": [
        "### Create a list, colors = [‘Red’, ‘Blue’, ‘White’]"
      ]
    },
    {
      "cell_type": "code",
      "execution_count": 3,
      "id": "Z1lMzdbWjNS7",
      "metadata": {
        "id": "Z1lMzdbWjNS7"
      },
      "outputs": [],
      "source": [
        "colors = ['Red','Blue', 'White']"
      ]
    },
    {
      "cell_type": "markdown",
      "id": "VAqLj5R3jNS7",
      "metadata": {
        "id": "VAqLj5R3jNS7"
      },
      "source": [
        "Append the element 'Black' to colors"
      ]
    },
    {
      "cell_type": "code",
      "execution_count": 4,
      "id": "gvb5iC7ljNS7",
      "metadata": {
        "id": "gvb5iC7ljNS7"
      },
      "outputs": [],
      "source": [
        "\n",
        "colors.append('Black')\n"
      ]
    },
    {
      "cell_type": "markdown",
      "id": "MFWIzVcvjNS7",
      "metadata": {
        "id": "MFWIzVcvjNS7"
      },
      "source": [
        "Append the color 'Orange' to second position (index=1) and print the list"
      ]
    },
    {
      "cell_type": "code",
      "execution_count": 6,
      "id": "Fb6YZDSNjNS8",
      "metadata": {
        "id": "Fb6YZDSNjNS8"
      },
      "outputs": [],
      "source": [
        "colors.insert(1,'Orange')\n",
        "\n"
      ]
    },
    {
      "cell_type": "markdown",
      "id": "8DWB76AOjNS8",
      "metadata": {
        "id": "8DWB76AOjNS8"
      },
      "source": [
        "Print the list\n"
      ]
    },
    {
      "cell_type": "code",
      "execution_count": 7,
      "id": "0ldkGCozjNS8",
      "metadata": {
        "id": "0ldkGCozjNS8",
        "colab": {
          "base_uri": "https://localhost:8080/"
        },
        "outputId": "add14a6e-c99b-4ac4-b309-d3d20b51521d"
      },
      "outputs": [
        {
          "output_type": "execute_result",
          "data": {
            "text/plain": [
              "['Red', 'Orange', 'Blue', 'White', 'Black']"
            ]
          },
          "metadata": {},
          "execution_count": 7
        }
      ],
      "source": [
        "colors"
      ]
    },
    {
      "cell_type": "markdown",
      "id": "WfFfxvLKjNS8",
      "metadata": {
        "id": "WfFfxvLKjNS8"
      },
      "source": [
        "Create another list, colors2 = [‘Grey’, ‘Sky Blue’]"
      ]
    },
    {
      "cell_type": "code",
      "execution_count": 8,
      "id": "onZEiwdUjNS8",
      "metadata": {
        "id": "onZEiwdUjNS8"
      },
      "outputs": [],
      "source": [
        "colors2 = ['Grey', 'Sky' ,'Blue']"
      ]
    },
    {
      "cell_type": "markdown",
      "id": "MrNQk6uKjNS8",
      "metadata": {
        "id": "MrNQk6uKjNS8"
      },
      "source": [
        "Add the elements of colors2 to colors using extend function in the list"
      ]
    },
    {
      "cell_type": "code",
      "execution_count": 9,
      "id": "Hr1Eu88OjNS9",
      "metadata": {
        "id": "Hr1Eu88OjNS9"
      },
      "outputs": [],
      "source": [
        "colors.extend(colors2)"
      ]
    },
    {
      "cell_type": "markdown",
      "id": "u0KDeU20jNS9",
      "metadata": {
        "id": "u0KDeU20jNS9"
      },
      "source": [
        "Print len of colors and its elements"
      ]
    },
    {
      "cell_type": "code",
      "execution_count": 10,
      "id": "bnBmsCg2jNS9",
      "metadata": {
        "id": "bnBmsCg2jNS9",
        "colab": {
          "base_uri": "https://localhost:8080/"
        },
        "outputId": "79e8a0cf-c8f2-4ca2-88d7-25275a7842f5"
      },
      "outputs": [
        {
          "output_type": "stream",
          "name": "stdout",
          "text": [
            "8\n"
          ]
        }
      ],
      "source": [
        "elements = len(colors)\n",
        "print(elements)\n",
        "\n"
      ]
    },
    {
      "cell_type": "markdown",
      "id": "vJ7YqokSjNS9",
      "metadata": {
        "id": "vJ7YqokSjNS9"
      },
      "source": [
        "Sort the list and print it."
      ]
    },
    {
      "cell_type": "code",
      "execution_count": 12,
      "id": "X14C-1PtjNS9",
      "metadata": {
        "id": "X14C-1PtjNS9",
        "colab": {
          "base_uri": "https://localhost:8080/"
        },
        "outputId": "eedc503d-191f-497b-83a7-266f70e5b030"
      },
      "outputs": [
        {
          "output_type": "execute_result",
          "data": {
            "text/plain": [
              "['Black', 'Blue', 'Blue', 'Grey', 'Orange', 'Red', 'Sky', 'White']"
            ]
          },
          "metadata": {},
          "execution_count": 12
        }
      ],
      "source": [
        "\n",
        "colors.sort()\n",
        "colors\n"
      ]
    },
    {
      "cell_type": "markdown",
      "id": "MdN5B9F9jNS-",
      "metadata": {
        "id": "MdN5B9F9jNS-"
      },
      "source": [
        "### Create a string, sent = ‘Coronavirus Caused Lockdowns Around The World.”"
      ]
    },
    {
      "cell_type": "code",
      "execution_count": 13,
      "id": "j4JUR085jNS-",
      "metadata": {
        "id": "j4JUR085jNS-"
      },
      "outputs": [],
      "source": [
        "sent = 'Coronavirus Caused Lockdowns Around The World.'"
      ]
    },
    {
      "cell_type": "markdown",
      "id": "rcn18drOjNS-",
      "metadata": {
        "id": "rcn18drOjNS-"
      },
      "source": [
        "Use split function to convert the string into a list of words and save it in variable words and print the same"
      ]
    },
    {
      "cell_type": "code",
      "execution_count": 14,
      "id": "fjiKSboajNS-",
      "metadata": {
        "id": "fjiKSboajNS-",
        "colab": {
          "base_uri": "https://localhost:8080/"
        },
        "outputId": "16ffca51-5e62-47da-ff47-7fead45571c0"
      },
      "outputs": [
        {
          "output_type": "stream",
          "name": "stdout",
          "text": [
            "['Coronavirus', 'Caused', 'Lockdowns', 'Around', 'The', 'World.']\n"
          ]
        }
      ],
      "source": [
        "words = sent.split()\n",
        "print(words)\n",
        "\n"
      ]
    },
    {
      "cell_type": "markdown",
      "id": "rowxhN26jNS_",
      "metadata": {
        "id": "rowxhN26jNS_"
      },
      "source": [
        "Convert each word in the list to lower case and store it in variable words_lower.\n",
        "Print words_lower"
      ]
    },
    {
      "cell_type": "code",
      "execution_count": 15,
      "id": "LuzAECOVjNS_",
      "metadata": {
        "id": "LuzAECOVjNS_",
        "colab": {
          "base_uri": "https://localhost:8080/"
        },
        "outputId": "814e6c15-7999-4e1f-e3b4-0067b1209c6c"
      },
      "outputs": [
        {
          "output_type": "stream",
          "name": "stdout",
          "text": [
            "['coronavirus', 'caused', 'lockdowns', 'around', 'the', 'world.']\n"
          ]
        }
      ],
      "source": [
        "l_words = [word.lower() for word in words]\n",
        "print(l_words)\n",
        "\n"
      ]
    },
    {
      "cell_type": "markdown",
      "id": "zznwP-l9jNS_",
      "metadata": {
        "id": "zznwP-l9jNS_"
      },
      "source": [
        "Check whether ‘country’ is in the list"
      ]
    },
    {
      "cell_type": "code",
      "execution_count": 16,
      "id": "y-U1felnjNS_",
      "metadata": {
        "id": "y-U1felnjNS_",
        "colab": {
          "base_uri": "https://localhost:8080/"
        },
        "outputId": "8f517e48-01ae-41aa-86e3-590e9ccc1fe0"
      },
      "outputs": [
        {
          "output_type": "execute_result",
          "data": {
            "text/plain": [
              "0"
            ]
          },
          "metadata": {},
          "execution_count": 16
        }
      ],
      "source": [
        "words.count('country')"
      ]
    },
    {
      "cell_type": "markdown",
      "id": "AZMvSVKWjNS_",
      "metadata": {
        "id": "AZMvSVKWjNS_"
      },
      "source": [
        "Remove the element ‘the’ from the list and print the list."
      ]
    },
    {
      "cell_type": "code",
      "execution_count": 17,
      "id": "bmDbpYd7jNS_",
      "metadata": {
        "id": "bmDbpYd7jNS_",
        "colab": {
          "base_uri": "https://localhost:8080/"
        },
        "outputId": "d0ca69a7-df98-4667-fa24-5784f4f10994"
      },
      "outputs": [
        {
          "output_type": "stream",
          "name": "stdout",
          "text": [
            "['coronavirus', 'caused', 'lockdowns', 'around', 'world.']\n"
          ]
        }
      ],
      "source": [
        "l_words.remove('the')\n",
        "print(l_words)\n",
        "\n"
      ]
    },
    {
      "cell_type": "markdown",
      "id": "int3gJc0jNS_",
      "metadata": {
        "id": "int3gJc0jNS_"
      },
      "source": [
        "Select the first 4 words from the list words_lower using slicing and store them in a new variable x4"
      ]
    },
    {
      "cell_type": "code",
      "execution_count": 19,
      "id": "fXOJmYI1jNTA",
      "metadata": {
        "id": "fXOJmYI1jNTA",
        "colab": {
          "base_uri": "https://localhost:8080/"
        },
        "outputId": "5f1b3c39-d114-4792-e574-c2dd7260fc4e"
      },
      "outputs": [
        {
          "output_type": "stream",
          "name": "stdout",
          "text": [
            "['coronavirus', 'caused', 'lockdowns', 'around']\n"
          ]
        }
      ],
      "source": [
        "x4 = l_words[:4]\n",
        "print(x4)"
      ]
    },
    {
      "cell_type": "code",
      "execution_count": 20,
      "id": "2Kb_1V9HjNTA",
      "metadata": {
        "id": "2Kb_1V9HjNTA",
        "colab": {
          "base_uri": "https://localhost:8080/"
        },
        "outputId": "ef39d54f-7b6b-4e15-d821-17587ee75ce0"
      },
      "outputs": [
        {
          "output_type": "execute_result",
          "data": {
            "text/plain": [
              "['coronavirus', 'caused', 'lockdowns', 'around']"
            ]
          },
          "metadata": {},
          "execution_count": 20
        }
      ],
      "source": [
        "# print x4\n",
        "x4\n"
      ]
    },
    {
      "cell_type": "markdown",
      "id": "3HgP3nUmjNTA",
      "metadata": {
        "id": "3HgP3nUmjNTA"
      },
      "source": [
        "Convert the list of elements to single string using join function and print it"
      ]
    },
    {
      "cell_type": "code",
      "execution_count": 21,
      "id": "hiXO7ekhjNTA",
      "metadata": {
        "id": "hiXO7ekhjNTA",
        "colab": {
          "base_uri": "https://localhost:8080/"
        },
        "outputId": "e3eeeec8-a2d3-468f-e764-b5be515a82f9"
      },
      "outputs": [
        {
          "output_type": "stream",
          "name": "stdout",
          "text": [
            "coronavirus_caused_lockdowns_around\n"
          ]
        }
      ],
      "source": [
        "joined = '_'.join(x4)\n",
        "print(joined)\n"
      ]
    },
    {
      "cell_type": "markdown",
      "id": "tW6We_kvjNTA",
      "metadata": {
        "id": "tW6We_kvjNTA"
      },
      "source": [
        "## Sets"
      ]
    },
    {
      "cell_type": "markdown",
      "id": "02qkte5xjNTA",
      "metadata": {
        "id": "02qkte5xjNTA"
      },
      "source": [
        "### Create stud_grades = ['A','A','B','C','C','F']"
      ]
    },
    {
      "cell_type": "code",
      "execution_count": 22,
      "id": "M5P_qZaTjNTB",
      "metadata": {
        "id": "M5P_qZaTjNTB"
      },
      "outputs": [],
      "source": [
        "stud_grades = ['A','A','B','C','C','F']"
      ]
    },
    {
      "cell_type": "markdown",
      "id": "XazCnMcBjNTB",
      "metadata": {
        "id": "XazCnMcBjNTB"
      },
      "source": [
        "Print the len of stud_grades"
      ]
    },
    {
      "cell_type": "code",
      "execution_count": 25,
      "id": "gMMJN-V5jNTB",
      "metadata": {
        "id": "gMMJN-V5jNTB",
        "colab": {
          "base_uri": "https://localhost:8080/"
        },
        "outputId": "e655086a-fa4c-4a59-e9a4-6ce5873e20db"
      },
      "outputs": [
        {
          "output_type": "stream",
          "name": "stdout",
          "text": [
            "6\n"
          ]
        }
      ],
      "source": [
        "\n",
        "element = len(stud_grades)\n",
        "print(element)\n"
      ]
    },
    {
      "cell_type": "markdown",
      "id": "ALm7hstGjNTB",
      "metadata": {
        "id": "ALm7hstGjNTB"
      },
      "source": [
        "Create a new variable, stud_grades_set = set(stud_grades)"
      ]
    },
    {
      "cell_type": "code",
      "execution_count": 26,
      "id": "ItDkZir6UA_W",
      "metadata": {
        "id": "ItDkZir6UA_W"
      },
      "outputs": [],
      "source": [
        "stud_grades_set = set(stud_grades)"
      ]
    },
    {
      "cell_type": "markdown",
      "id": "JJESkQiJjNTB",
      "metadata": {
        "id": "JJESkQiJjNTB"
      },
      "source": [
        "Print stud_grades_set."
      ]
    },
    {
      "cell_type": "code",
      "execution_count": 27,
      "id": "Q-daiiLPjNTB",
      "metadata": {
        "id": "Q-daiiLPjNTB",
        "colab": {
          "base_uri": "https://localhost:8080/"
        },
        "outputId": "7c7c3623-61a1-43fa-a7fe-6a1eb4f44a29"
      },
      "outputs": [
        {
          "output_type": "execute_result",
          "data": {
            "text/plain": [
              "{'A', 'B', 'C', 'F'}"
            ]
          },
          "metadata": {},
          "execution_count": 27
        }
      ],
      "source": [
        "\n",
        "stud_grades_set\n"
      ]
    },
    {
      "cell_type": "markdown",
      "id": "hNeCPwPOjNTC",
      "metadata": {
        "id": "hNeCPwPOjNTC"
      },
      "source": [
        "print the type of stud_grades and stud_grades_set and print their corresponding elements. Try to understand the difference between them."
      ]
    },
    {
      "cell_type": "code",
      "execution_count": 28,
      "id": "g7cntC0ojNTC",
      "metadata": {
        "id": "g7cntC0ojNTC",
        "colab": {
          "base_uri": "https://localhost:8080/"
        },
        "outputId": "6c3f7f21-6672-45ba-cac1-141b5bcb9e83"
      },
      "outputs": [
        {
          "output_type": "stream",
          "name": "stdout",
          "text": [
            "type(stud_grades :  <class 'list'>\n",
            "type(stud_grades_set :  <class 'set'>\n"
          ]
        }
      ],
      "source": [
        "\n",
        "print(\"type(stud_grades : \", type(stud_grades))\n",
        "print(\"type(stud_grades_set : \", type(stud_grades_set))\n",
        "\n"
      ]
    },
    {
      "cell_type": "markdown",
      "id": "WjzzJX8yjNTC",
      "metadata": {
        "id": "WjzzJX8yjNTC"
      },
      "source": [
        "Add a new element ‘G’ to stud_grades_set"
      ]
    },
    {
      "cell_type": "code",
      "execution_count": 29,
      "id": "y80DVAlRjNTC",
      "metadata": {
        "id": "y80DVAlRjNTC"
      },
      "outputs": [],
      "source": [
        "stud_grades_set.add('G')\n"
      ]
    },
    {
      "cell_type": "markdown",
      "id": "4TO9zhSJjNTC",
      "metadata": {
        "id": "4TO9zhSJjNTC"
      },
      "source": [
        "Add element 'F' to stud_grades_set. and print it."
      ]
    },
    {
      "cell_type": "code",
      "execution_count": 30,
      "id": "Bh4tc1zCjNTC",
      "metadata": {
        "id": "Bh4tc1zCjNTC",
        "colab": {
          "base_uri": "https://localhost:8080/"
        },
        "outputId": "c0d5a9a6-c7a1-4eb8-9017-1563127864ae"
      },
      "outputs": [
        {
          "output_type": "execute_result",
          "data": {
            "text/plain": [
              "{'A', 'B', 'C', 'F', 'G'}"
            ]
          },
          "metadata": {},
          "execution_count": 30
        }
      ],
      "source": [
        "stud_grades_set.add('F')\n",
        "stud_grades_set\n",
        "\n"
      ]
    },
    {
      "cell_type": "markdown",
      "id": "FSgM3DD5jNTD",
      "metadata": {
        "id": "FSgM3DD5jNTD"
      },
      "source": [
        "!!Did you notice? set doesn't add an element if it's already present in it, unlike lists."
      ]
    },
    {
      "cell_type": "markdown",
      "id": "tqz1GBM5jNTD",
      "metadata": {
        "id": "tqz1GBM5jNTD"
      },
      "source": [
        "Remove ‘F’ from stud_grades_set"
      ]
    },
    {
      "cell_type": "code",
      "execution_count": 31,
      "id": "zOLBDdk0jNTD",
      "metadata": {
        "id": "zOLBDdk0jNTD"
      },
      "outputs": [],
      "source": [
        "stud_grades_set.remove('F')\n",
        "\n"
      ]
    },
    {
      "cell_type": "markdown",
      "id": "wxMXywoRjNTD",
      "metadata": {
        "id": "wxMXywoRjNTD"
      },
      "source": [
        "Print the elements and the length of stud_grades_set"
      ]
    },
    {
      "cell_type": "code",
      "execution_count": 32,
      "id": "lS582g27jNTD",
      "metadata": {
        "id": "lS582g27jNTD",
        "colab": {
          "base_uri": "https://localhost:8080/"
        },
        "outputId": "46290e36-3465-49b2-eb9e-7f5c3aca7778"
      },
      "outputs": [
        {
          "output_type": "stream",
          "name": "stdout",
          "text": [
            "elemn :  4\n",
            "stud_grades_set :  {'C', 'G', 'A', 'B'}\n"
          ]
        }
      ],
      "source": [
        "elemn = len(stud_grades_set)\n",
        "print(\"elemn : \" , elemn)\n",
        "print(\"stud_grades_set : \", stud_grades_set)\n"
      ]
    },
    {
      "cell_type": "markdown",
      "id": "FctCYkNBjNTD",
      "metadata": {
        "id": "FctCYkNBjNTD"
      },
      "source": [
        "### Create colors = [‘red’,’blue’,’orange’], and fruits = [‘orange’,’grapes’,’apples’]"
      ]
    },
    {
      "cell_type": "code",
      "execution_count": 33,
      "id": "Ax9GSualUA_b",
      "metadata": {
        "id": "Ax9GSualUA_b"
      },
      "outputs": [],
      "source": [
        "colors = ['red','blue','orange']\n",
        "fruits = ['orange','grapes','apples']"
      ]
    },
    {
      "cell_type": "markdown",
      "id": "kfIRtvphjNTE",
      "metadata": {
        "id": "kfIRtvphjNTE"
      },
      "source": [
        "Print color and fruits"
      ]
    },
    {
      "cell_type": "code",
      "execution_count": 35,
      "id": "q-gavK0-jNTE",
      "metadata": {
        "id": "q-gavK0-jNTE",
        "colab": {
          "base_uri": "https://localhost:8080/"
        },
        "outputId": "570f7386-10e3-41c4-ac0a-95561f647359"
      },
      "outputs": [
        {
          "output_type": "stream",
          "name": "stdout",
          "text": [
            "['red', 'blue', 'orange']\n",
            "['orange', 'grapes', 'apples']\n"
          ]
        }
      ],
      "source": [
        "print(colors)\n",
        "print(fruits )"
      ]
    },
    {
      "cell_type": "markdown",
      "id": "uMOTrWwSjNTE",
      "metadata": {
        "id": "uMOTrWwSjNTE"
      },
      "source": [
        "Create colors_set, and fruits_set. (using set() ) and print them"
      ]
    },
    {
      "cell_type": "code",
      "execution_count": 36,
      "id": "pjs5HyB0UA_d",
      "metadata": {
        "id": "pjs5HyB0UA_d",
        "colab": {
          "base_uri": "https://localhost:8080/"
        },
        "outputId": "8cc93999-6df2-4ccd-9195-2e6f4a92f06a"
      },
      "outputs": [
        {
          "output_type": "stream",
          "name": "stdout",
          "text": [
            "{'red', 'orange', 'blue'}\n",
            "{'orange', 'apples', 'grapes'}\n"
          ]
        }
      ],
      "source": [
        "colors_set = set(colors)\n",
        "fruits_set = set(fruits)\n",
        "print(colors_set)\n",
        "print(fruits_set)"
      ]
    },
    {
      "cell_type": "markdown",
      "id": "tW9fj0R1jNTE",
      "metadata": {
        "id": "tW9fj0R1jNTE"
      },
      "source": [
        "Find the union of both the sets."
      ]
    },
    {
      "cell_type": "code",
      "execution_count": 37,
      "id": "oyskI_CTjNTE",
      "metadata": {
        "id": "oyskI_CTjNTE",
        "colab": {
          "base_uri": "https://localhost:8080/"
        },
        "outputId": "c935bfc0-bf6b-4447-9543-b3df1f9716dc"
      },
      "outputs": [
        {
          "output_type": "stream",
          "name": "stdout",
          "text": [
            "{'red', 'orange', 'blue', 'grapes', 'apples'}\n"
          ]
        }
      ],
      "source": [
        "print(colors_set.union(fruits_set))\n",
        "\n"
      ]
    },
    {
      "cell_type": "markdown",
      "id": "3yXYgYBLjNTF",
      "metadata": {
        "id": "3yXYgYBLjNTF"
      },
      "source": [
        "Find the intersection of both the sets"
      ]
    },
    {
      "cell_type": "code",
      "execution_count": 38,
      "id": "3AzYqu5sjNTF",
      "metadata": {
        "id": "3AzYqu5sjNTF",
        "colab": {
          "base_uri": "https://localhost:8080/"
        },
        "outputId": "a512c7b1-801a-4ffa-b2b6-5dfca3de6b33"
      },
      "outputs": [
        {
          "output_type": "stream",
          "name": "stdout",
          "text": [
            "{'orange'}\n"
          ]
        }
      ],
      "source": [
        "print(colors_set.intersection(fruits_set))\n",
        "\n"
      ]
    },
    {
      "cell_type": "markdown",
      "id": "PuhlSjH_jNTF",
      "metadata": {
        "id": "PuhlSjH_jNTF"
      },
      "source": [
        "Find the elements which are Fruits but not colors (using set.difference() )"
      ]
    },
    {
      "cell_type": "code",
      "execution_count": 39,
      "id": "gBaxHXrfjNTF",
      "metadata": {
        "id": "gBaxHXrfjNTF",
        "colab": {
          "base_uri": "https://localhost:8080/"
        },
        "outputId": "62ae8425-8e31-457f-e03a-8c7f28024484"
      },
      "outputs": [
        {
          "output_type": "stream",
          "name": "stdout",
          "text": [
            "{'apples', 'grapes'}\n"
          ]
        }
      ],
      "source": [
        "print(fruits_set.difference(colors_set))\n",
        "\n"
      ]
    },
    {
      "cell_type": "code",
      "execution_count": null,
      "id": "R60U4CRhUA_e",
      "metadata": {
        "id": "R60U4CRhUA_e"
      },
      "outputs": [],
      "source": []
    },
    {
      "cell_type": "markdown",
      "id": "hLZeBta3jNTF",
      "metadata": {
        "id": "hLZeBta3jNTF"
      },
      "source": [
        "## TUPLES"
      ]
    },
    {
      "cell_type": "markdown",
      "id": "Nerhdg66jNTF",
      "metadata": {
        "id": "Nerhdg66jNTF"
      },
      "source": [
        "### Create temp = [17, ’Virat’, 50.0]"
      ]
    },
    {
      "cell_type": "code",
      "execution_count": 40,
      "id": "YKb5GS-FUA_f",
      "metadata": {
        "id": "YKb5GS-FUA_f"
      },
      "outputs": [],
      "source": [
        "temp = [17, 'Virat', 50.0]\n"
      ]
    },
    {
      "cell_type": "markdown",
      "id": "C0IuMJFijNTG",
      "metadata": {
        "id": "C0IuMJFijNTG"
      },
      "source": [
        "Iterate through temp and print all the items in temp"
      ]
    },
    {
      "cell_type": "code",
      "execution_count": 41,
      "id": "CSKY_cgHjNTG",
      "metadata": {
        "id": "CSKY_cgHjNTG",
        "colab": {
          "base_uri": "https://localhost:8080/"
        },
        "outputId": "60ec0d51-ca48-4ccd-f77d-5dfd2f4bf902"
      },
      "outputs": [
        {
          "output_type": "stream",
          "name": "stdout",
          "text": [
            "17\n",
            "Virat\n",
            "50.0\n"
          ]
        }
      ],
      "source": [
        "\n",
        "for i in temp:\n",
        "    print(i)"
      ]
    },
    {
      "cell_type": "markdown",
      "id": "gI0kBGQ1jNTG",
      "metadata": {
        "id": "gI0kBGQ1jNTG"
      },
      "source": [
        "replace first element with 11 in temp"
      ]
    },
    {
      "cell_type": "code",
      "execution_count": 42,
      "id": "p6JCtyOBjNTG",
      "metadata": {
        "id": "p6JCtyOBjNTG",
        "colab": {
          "base_uri": "https://localhost:8080/"
        },
        "outputId": "ebc02df8-1f7a-4766-c7d1-2f9ce1d444aa"
      },
      "outputs": [
        {
          "output_type": "execute_result",
          "data": {
            "text/plain": [
              "[11, 'Virat', 50.0]"
            ]
          },
          "metadata": {},
          "execution_count": 42
        }
      ],
      "source": [
        "temp.remove(17)\n",
        "temp.insert(0,11)\n",
        "temp"
      ]
    },
    {
      "cell_type": "markdown",
      "id": "JV3b34AdjNTG",
      "metadata": {
        "id": "JV3b34AdjNTG"
      },
      "source": [
        "Set temp1 = tuple(temp)"
      ]
    },
    {
      "cell_type": "code",
      "execution_count": 43,
      "id": "yFu9n19tUA_g",
      "metadata": {
        "id": "yFu9n19tUA_g",
        "colab": {
          "base_uri": "https://localhost:8080/"
        },
        "outputId": "e21a7f07-6e80-4d85-b47d-f82c2d68d49b"
      },
      "outputs": [
        {
          "output_type": "execute_result",
          "data": {
            "text/plain": [
              "(11, 'Virat', 50.0)"
            ]
          },
          "metadata": {},
          "execution_count": 43
        }
      ],
      "source": [
        "temp1 = tuple(temp)\n",
        "temp1"
      ]
    },
    {
      "cell_type": "markdown",
      "id": "Z9LJWgBkjNTG",
      "metadata": {
        "id": "Z9LJWgBkjNTG"
      },
      "source": [
        "Iterate through temp1 and print all the items in temp1."
      ]
    },
    {
      "cell_type": "code",
      "execution_count": 44,
      "id": "t0v-FZsNjNTH",
      "metadata": {
        "id": "t0v-FZsNjNTH",
        "colab": {
          "base_uri": "https://localhost:8080/"
        },
        "outputId": "991128c0-c049-462b-fbd0-e378a3089add"
      },
      "outputs": [
        {
          "output_type": "stream",
          "name": "stdout",
          "text": [
            "11\n",
            "Virat\n",
            "50.0\n"
          ]
        }
      ],
      "source": [
        "for i in temp1:\n",
        "    print(i)\n",
        "\n",
        "\n"
      ]
    },
    {
      "cell_type": "markdown",
      "id": "A4FXMQDfjNTH",
      "metadata": {
        "id": "A4FXMQDfjNTH"
      },
      "source": [
        "replace first element with 17 in temp1"
      ]
    },
    {
      "cell_type": "code",
      "execution_count": null,
      "id": "eioDSdW8jNTH",
      "metadata": {
        "id": "eioDSdW8jNTH"
      },
      "outputs": [],
      "source": [
        "\n"
      ]
    },
    {
      "cell_type": "markdown",
      "id": "IuGIObFZjNTH",
      "metadata": {
        "id": "IuGIObFZjNTH"
      },
      "source": [
        "<b>Oops!! You got an error. Hey Don't worry! Its because Once a tuple is created, you cannot change its values unlike list.</b>"
      ]
    },
    {
      "cell_type": "markdown",
      "id": "ExB_cM1ZjNTH",
      "metadata": {
        "id": "ExB_cM1ZjNTH"
      },
      "source": [
        "### Create city = (\"Bangalore\", 28.9949521, 72)"
      ]
    },
    {
      "cell_type": "code",
      "execution_count": 45,
      "id": "fWz52DjjjNTH",
      "metadata": {
        "id": "fWz52DjjjNTH"
      },
      "outputs": [],
      "source": [
        "city = (\"Bangalore\", 28.9949521, 72)\n"
      ]
    },
    {
      "cell_type": "markdown",
      "id": "v4ipyqXsjNTH",
      "metadata": {
        "id": "v4ipyqXsjNTH"
      },
      "source": [
        "Print first element of city"
      ]
    },
    {
      "cell_type": "code",
      "source": [
        "first_city = city[0]\n",
        "print(first_city)"
      ],
      "metadata": {
        "colab": {
          "base_uri": "https://localhost:8080/"
        },
        "id": "LESpFfQS9uFJ",
        "outputId": "a398420b-dc69-474f-d9a5-1586b278ae83"
      },
      "id": "LESpFfQS9uFJ",
      "execution_count": 47,
      "outputs": [
        {
          "output_type": "stream",
          "name": "stdout",
          "text": [
            "Bangalore\n"
          ]
        }
      ]
    },
    {
      "cell_type": "markdown",
      "id": "N5FoHg4ujNTI",
      "metadata": {
        "id": "N5FoHg4ujNTI"
      },
      "source": [
        "Create city2 = (‘Chennai’, 30.01, 74)"
      ]
    },
    {
      "cell_type": "code",
      "execution_count": 49,
      "id": "fYuGqbDEjNTI",
      "metadata": {
        "id": "fYuGqbDEjNTI"
      },
      "outputs": [],
      "source": [
        "city2 = ('Chennai', 30.01, 74)"
      ]
    },
    {
      "cell_type": "markdown",
      "id": "0gz-HACUjNTI",
      "metadata": {
        "id": "0gz-HACUjNTI"
      },
      "source": [
        "Create cities which consist of city and city2"
      ]
    },
    {
      "cell_type": "code",
      "execution_count": 50,
      "id": "5dTN1LQPjNTI",
      "metadata": {
        "id": "5dTN1LQPjNTI"
      },
      "outputs": [],
      "source": [
        "cities = city + city2\n"
      ]
    },
    {
      "cell_type": "markdown",
      "id": "He-teRi2jNTI",
      "metadata": {
        "id": "He-teRi2jNTI"
      },
      "source": [
        "Print cities"
      ]
    },
    {
      "cell_type": "code",
      "execution_count": 51,
      "id": "ISySNfxGjNTI",
      "metadata": {
        "id": "ISySNfxGjNTI",
        "colab": {
          "base_uri": "https://localhost:8080/"
        },
        "outputId": "58b97f94-a4bd-4322-fdfd-f285026d418a"
      },
      "outputs": [
        {
          "output_type": "stream",
          "name": "stdout",
          "text": [
            "('Bangalore', 28.9949521, 72, 'Chennai', 30.01, 74)\n"
          ]
        }
      ],
      "source": [
        "print(cities)"
      ]
    },
    {
      "cell_type": "markdown",
      "id": "brFx6-rtjNTJ",
      "metadata": {
        "id": "brFx6-rtjNTJ"
      },
      "source": [
        "Print type of first element in cities"
      ]
    },
    {
      "cell_type": "code",
      "execution_count": 52,
      "id": "CmIifGybjNTJ",
      "metadata": {
        "id": "CmIifGybjNTJ",
        "colab": {
          "base_uri": "https://localhost:8080/"
        },
        "outputId": "68820d71-907a-46c0-aa67-d1835f9442dd"
      },
      "outputs": [
        {
          "output_type": "execute_result",
          "data": {
            "text/plain": [
              "str"
            ]
          },
          "metadata": {},
          "execution_count": 52
        }
      ],
      "source": [
        "type(cities[0])\n"
      ]
    },
    {
      "cell_type": "markdown",
      "id": "jtk8J_yHjNTJ",
      "metadata": {
        "id": "jtk8J_yHjNTJ"
      },
      "source": [
        "print the type of cities\n"
      ]
    },
    {
      "cell_type": "code",
      "execution_count": 53,
      "id": "y9rdG29XjNTJ",
      "metadata": {
        "id": "y9rdG29XjNTJ",
        "colab": {
          "base_uri": "https://localhost:8080/"
        },
        "outputId": "1d15b92c-c707-4200-ba2b-aa1bd950cc8a"
      },
      "outputs": [
        {
          "output_type": "execute_result",
          "data": {
            "text/plain": [
              "tuple"
            ]
          },
          "metadata": {},
          "execution_count": 53
        }
      ],
      "source": [
        "type(cities)"
      ]
    },
    {
      "cell_type": "markdown",
      "id": "uXHSadWqjNTJ",
      "metadata": {
        "id": "uXHSadWqjNTJ"
      },
      "source": [
        "Hey that implies you made a nested tuples!!"
      ]
    },
    {
      "cell_type": "markdown",
      "id": "zViY-S_djNTJ",
      "metadata": {
        "id": "zViY-S_djNTJ"
      },
      "source": [
        "## DICTIONARY"
      ]
    },
    {
      "cell_type": "markdown",
      "id": "4NjUxRaZjNTK",
      "metadata": {
        "id": "4NjUxRaZjNTK"
      },
      "source": [
        "### Create a dictionary d = {\"actor\":\"amir\",\"animal\":\"cat\",\"earth\":2,\"list\":[23,32,12]}"
      ]
    },
    {
      "cell_type": "code",
      "execution_count": 54,
      "id": "UCtEFPI4jNTK",
      "metadata": {
        "id": "UCtEFPI4jNTK"
      },
      "outputs": [],
      "source": [
        "d = {\"actor\":\"amir\",\"animal\":\"cat\",\"earth\":2,\"list\":[23,32,12]}"
      ]
    },
    {
      "cell_type": "markdown",
      "id": "OamenDk8jNTK",
      "metadata": {
        "id": "OamenDk8jNTK"
      },
      "source": [
        "Print the value of d[0]"
      ]
    },
    {
      "cell_type": "code",
      "execution_count": 56,
      "id": "gion3awcjNTK",
      "metadata": {
        "id": "gion3awcjNTK",
        "colab": {
          "base_uri": "https://localhost:8080/"
        },
        "outputId": "94182d4c-4f91-44ec-967b-3487051d9a5e"
      },
      "outputs": [
        {
          "output_type": "stream",
          "name": "stdout",
          "text": [
            "amir\n"
          ]
        }
      ],
      "source": [
        "print(d[\"actor\"])\n"
      ]
    },
    {
      "cell_type": "markdown",
      "id": "XYtrrUigjNTK",
      "metadata": {
        "id": "XYtrrUigjNTK"
      },
      "source": [
        "<b>Oops!! again an error. again a fun fact. Dictionary return the value for key if key is in the dictionary, else throws KeyError\n",
        "and we don't have key 0 here :( </b>"
      ]
    },
    {
      "cell_type": "markdown",
      "id": "62VXYnw1jNTK",
      "metadata": {
        "id": "62VXYnw1jNTK"
      },
      "source": [
        "Store the value of d[‘actor’] to a new variable actor."
      ]
    },
    {
      "cell_type": "code",
      "execution_count": 57,
      "id": "kkBfNz81jNTK",
      "metadata": {
        "id": "kkBfNz81jNTK"
      },
      "outputs": [],
      "source": [
        "actor = d[\"actor\"]\n"
      ]
    },
    {
      "cell_type": "markdown",
      "id": "uFfuF569jNTL",
      "metadata": {
        "id": "uFfuF569jNTL"
      },
      "source": [
        "Print the type of actor"
      ]
    },
    {
      "cell_type": "code",
      "execution_count": 58,
      "id": "bKbFXBxyjNTL",
      "metadata": {
        "id": "bKbFXBxyjNTL",
        "colab": {
          "base_uri": "https://localhost:8080/"
        },
        "outputId": "fed68660-821d-4892-a6cd-07efca195451"
      },
      "outputs": [
        {
          "output_type": "execute_result",
          "data": {
            "text/plain": [
              "str"
            ]
          },
          "metadata": {},
          "execution_count": 58
        }
      ],
      "source": [
        "type(actor)"
      ]
    },
    {
      "cell_type": "markdown",
      "id": "y549qN04jNTL",
      "metadata": {
        "id": "y549qN04jNTL"
      },
      "source": [
        "Store the value of d[‘list’] in new variable List."
      ]
    },
    {
      "cell_type": "code",
      "execution_count": 59,
      "id": "I7GyOK8DjNTL",
      "metadata": {
        "id": "I7GyOK8DjNTL"
      },
      "outputs": [],
      "source": [
        "list = d[\"list\"]"
      ]
    },
    {
      "cell_type": "markdown",
      "id": "Ul1YMiuNjNTL",
      "metadata": {
        "id": "Ul1YMiuNjNTL"
      },
      "source": [
        "Print the type of List."
      ]
    },
    {
      "cell_type": "code",
      "execution_count": 60,
      "id": "V0VdG9y_jNTL",
      "metadata": {
        "id": "V0VdG9y_jNTL",
        "colab": {
          "base_uri": "https://localhost:8080/"
        },
        "outputId": "3ce860bc-837f-4f00-9fe2-b3640c09126b"
      },
      "outputs": [
        {
          "output_type": "execute_result",
          "data": {
            "text/plain": [
              "list"
            ]
          },
          "metadata": {},
          "execution_count": 60
        }
      ],
      "source": [
        "type(list)\n"
      ]
    },
    {
      "cell_type": "markdown",
      "id": "A0CEMABhjNTL",
      "metadata": {
        "id": "A0CEMABhjNTL"
      },
      "source": [
        "Create d1 = { ‘singer’ : ‘Kr$na’ , ‘album’: ‘Still here’, ‘genre’ : ‘hip-hop’}"
      ]
    },
    {
      "cell_type": "code",
      "execution_count": 61,
      "id": "FCGCw5FEjNTL",
      "metadata": {
        "id": "FCGCw5FEjNTL"
      },
      "outputs": [],
      "source": [
        "d1 = {'singer' : 'Kr$na' , 'album': 'Still here', 'genre' : 'hip-hop'}"
      ]
    },
    {
      "cell_type": "markdown",
      "id": "ybGIILrLjNTM",
      "metadata": {
        "id": "ybGIILrLjNTM"
      },
      "source": [
        "Merge d1 into d."
      ]
    },
    {
      "cell_type": "code",
      "execution_count": 62,
      "id": "UmDbbQJPjNTM",
      "metadata": {
        "id": "UmDbbQJPjNTM"
      },
      "outputs": [],
      "source": [
        "d.update(d1)"
      ]
    },
    {
      "cell_type": "markdown",
      "id": "jhAPX45ZjNTM",
      "metadata": {
        "id": "jhAPX45ZjNTM"
      },
      "source": [
        "print d"
      ]
    },
    {
      "cell_type": "code",
      "execution_count": 63,
      "id": "785S26ryjNTM",
      "metadata": {
        "id": "785S26ryjNTM",
        "colab": {
          "base_uri": "https://localhost:8080/"
        },
        "outputId": "b7694e92-6dbe-44e9-be7f-c81839535b2d"
      },
      "outputs": [
        {
          "output_type": "stream",
          "name": "stdout",
          "text": [
            "{'actor': 'amir', 'animal': 'cat', 'earth': 2, 'list': [23, 32, 12], 'singer': 'Kr$na', 'album': 'Still here', 'genre': 'hip-hop'}\n"
          ]
        }
      ],
      "source": [
        "print(d)"
      ]
    },
    {
      "cell_type": "markdown",
      "id": "9E852mY2jNTM",
      "metadata": {
        "id": "9E852mY2jNTM"
      },
      "source": [
        "Print all the keys in d"
      ]
    },
    {
      "cell_type": "code",
      "execution_count": 64,
      "id": "7K843OrLjNTM",
      "metadata": {
        "id": "7K843OrLjNTM",
        "colab": {
          "base_uri": "https://localhost:8080/"
        },
        "outputId": "1954510f-b6ea-4ed8-a9b1-4d869968b0ce"
      },
      "outputs": [
        {
          "output_type": "execute_result",
          "data": {
            "text/plain": [
              "dict_keys(['actor', 'animal', 'earth', 'list', 'singer', 'album', 'genre'])"
            ]
          },
          "metadata": {},
          "execution_count": 64
        }
      ],
      "source": [
        "d.keys()"
      ]
    },
    {
      "cell_type": "markdown",
      "id": "fiuzxbGkjNTN",
      "metadata": {
        "id": "fiuzxbGkjNTN"
      },
      "source": [
        "Print all the values in d"
      ]
    },
    {
      "cell_type": "code",
      "execution_count": 65,
      "id": "Pyhh6r0pjNTN",
      "metadata": {
        "id": "Pyhh6r0pjNTN",
        "colab": {
          "base_uri": "https://localhost:8080/"
        },
        "outputId": "f963e042-af0a-42d3-9f01-dc2733921326"
      },
      "outputs": [
        {
          "output_type": "execute_result",
          "data": {
            "text/plain": [
              "dict_values(['amir', 'cat', 2, [23, 32, 12], 'Kr$na', 'Still here', 'hip-hop'])"
            ]
          },
          "metadata": {},
          "execution_count": 65
        }
      ],
      "source": [
        "d.values()"
      ]
    },
    {
      "cell_type": "markdown",
      "id": "XSoe8GWmjNTN",
      "metadata": {
        "id": "XSoe8GWmjNTN"
      },
      "source": [
        "Iterate over d, and print each key, value pair as this - (actor ----> amir)"
      ]
    },
    {
      "cell_type": "code",
      "execution_count": 66,
      "id": "O0iW9kiqjNTO",
      "metadata": {
        "id": "O0iW9kiqjNTO",
        "colab": {
          "base_uri": "https://localhost:8080/"
        },
        "outputId": "12e1a6ae-f076-4adb-c48c-6fe9eefe0e52"
      },
      "outputs": [
        {
          "output_type": "stream",
          "name": "stdout",
          "text": [
            "actor '-->', value\n",
            "animal '-->', value\n",
            "earth '-->', value\n",
            "list '-->', value\n",
            "singer '-->', value\n",
            "album '-->', value\n",
            "genre '-->', value\n"
          ]
        }
      ],
      "source": [
        "for key, value in d.items():\n",
        "    print(f\"{key} '-->', value\")"
      ]
    },
    {
      "cell_type": "markdown",
      "id": "Hhzm-EIsjNTO",
      "metadata": {
        "id": "Hhzm-EIsjNTO"
      },
      "source": [
        "count the number of occurences of charachters in string named \"sent\" using dictionary and print the same.\n"
      ]
    },
    {
      "cell_type": "code",
      "execution_count": 67,
      "id": "IvRlvUAljNTP",
      "metadata": {
        "id": "IvRlvUAljNTP"
      },
      "outputs": [],
      "source": [
        "\n",
        "sent = 'Coronavirus Caused Lockdowns Around The World.'\n",
        "char_count = {}\n",
        "for char in sent:\n",
        "    if char in char_count:\n",
        "        char_count[char] += 1\n",
        "    else:\n",
        "        char_count[char] = 1\n"
      ]
    },
    {
      "cell_type": "code",
      "execution_count": 68,
      "id": "ebNwyxUujNTP",
      "metadata": {
        "id": "ebNwyxUujNTP",
        "colab": {
          "base_uri": "https://localhost:8080/"
        },
        "outputId": "d504eb59-6fd0-4764-de9b-a22d78ad7304"
      },
      "outputs": [
        {
          "output_type": "stream",
          "name": "stdout",
          "text": [
            "{'C': 2, 'o': 6, 'r': 4, 'n': 3, 'a': 2, 'v': 1, 'i': 1, 'u': 3, 's': 3, ' ': 5, 'e': 2, 'd': 4, 'L': 1, 'c': 1, 'k': 1, 'w': 1, 'A': 1, 'T': 1, 'h': 1, 'W': 1, 'l': 1, '.': 1}\n"
          ]
        }
      ],
      "source": [
        "print(char_count)"
      ]
    }
  ],
  "metadata": {
    "colab": {
      "provenance": []
    },
    "kernelspec": {
      "display_name": "Python 3 (ipykernel)",
      "language": "python",
      "name": "python3"
    },
    "language_info": {
      "codemirror_mode": {
        "name": "ipython",
        "version": 3
      },
      "file_extension": ".py",
      "mimetype": "text/x-python",
      "name": "python",
      "nbconvert_exporter": "python",
      "pygments_lexer": "ipython3",
      "version": "3.9.2"
    }
  },
  "nbformat": 4,
  "nbformat_minor": 5
}