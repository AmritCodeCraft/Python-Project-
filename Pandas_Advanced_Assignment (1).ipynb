{
  "cells": [
    {
      "cell_type": "markdown",
      "metadata": {
        "id": "XHvoVqK5mYA-"
      },
      "source": [
        "# <center>Pandas Assignment</center>"
      ],
      "id": "XHvoVqK5mYA-"
    },
    {
      "cell_type": "markdown",
      "metadata": {
        "id": "v9Qb2_aumYBF"
      },
      "source": [
        "Import pandas and numpy with their aliases"
      ],
      "id": "v9Qb2_aumYBF"
    },
    {
      "cell_type": "code",
      "execution_count": 1,
      "metadata": {
        "id": "ihFP1wXZmYBF"
      },
      "outputs": [],
      "source": [
        "import pandas as pd\n",
        "import numpy as np"
      ],
      "id": "ihFP1wXZmYBF"
    },
    {
      "cell_type": "markdown",
      "metadata": {
        "id": "0b8hUBhTmYBG"
      },
      "source": [
        "Create a variable a = pd.Series([ 100, 200, 300, 400])"
      ],
      "id": "0b8hUBhTmYBG"
    },
    {
      "cell_type": "code",
      "execution_count": 4,
      "metadata": {
        "id": "hzvzkbNYmYBH"
      },
      "outputs": [],
      "source": [
        "a = pd.Series([100,200,300,400])\n"
      ],
      "id": "hzvzkbNYmYBH"
    },
    {
      "cell_type": "markdown",
      "metadata": {
        "id": "BSyNFbitmYBH"
      },
      "source": [
        "Print a, and data type"
      ],
      "id": "BSyNFbitmYBH"
    },
    {
      "cell_type": "code",
      "execution_count": 6,
      "metadata": {
        "id": "GMmFsjPamYBH",
        "colab": {
          "base_uri": "https://localhost:8080/"
        },
        "outputId": "14a3044d-7862-40de-b988-96984e5d78a7"
      },
      "outputs": [
        {
          "output_type": "stream",
          "name": "stdout",
          "text": [
            "0    100\n",
            "1    200\n",
            "2    300\n",
            "3    400\n",
            "dtype: int64\n",
            "<class 'pandas.core.series.Series'>\n"
          ]
        }
      ],
      "source": [
        "print (a)\n",
        "print (type(a))\n"
      ],
      "id": "GMmFsjPamYBH"
    },
    {
      "cell_type": "markdown",
      "metadata": {
        "id": "z0FryxOXmYBI"
      },
      "source": [
        "Using indexing access the element 300 from the series a."
      ],
      "id": "z0FryxOXmYBI"
    },
    {
      "cell_type": "code",
      "execution_count": 7,
      "metadata": {
        "id": "wERTsh-4mYBJ",
        "colab": {
          "base_uri": "https://localhost:8080/"
        },
        "outputId": "1a172b1d-43a3-4afd-eee5-d1faa8ce1112"
      },
      "outputs": [
        {
          "output_type": "stream",
          "name": "stdout",
          "text": [
            "300\n"
          ]
        }
      ],
      "source": [
        "print(a[2])\n"
      ],
      "id": "wERTsh-4mYBJ"
    },
    {
      "cell_type": "markdown",
      "metadata": {
        "id": "HHEKyOtemYBJ"
      },
      "source": [
        "What are the values of index for series a?"
      ],
      "id": "HHEKyOtemYBJ"
    },
    {
      "cell_type": "code",
      "execution_count": 8,
      "metadata": {
        "id": "uQOnSJQ4mYBJ",
        "colab": {
          "base_uri": "https://localhost:8080/"
        },
        "outputId": "57f2a6ac-a4e3-4f38-de17-243aa3381c9e"
      },
      "outputs": [
        {
          "output_type": "stream",
          "name": "stdout",
          "text": [
            "0    100\n",
            "1    200\n",
            "2    300\n",
            "3    400\n",
            "dtype: int64\n"
          ]
        }
      ],
      "source": [
        "print (a)"
      ],
      "id": "uQOnSJQ4mYBJ"
    },
    {
      "cell_type": "markdown",
      "metadata": {
        "id": "EuFjG74wmYBJ"
      },
      "source": [
        "Change the index to  ['c', 'a', 'b', 'd']"
      ],
      "id": "EuFjG74wmYBJ"
    },
    {
      "cell_type": "code",
      "execution_count": 9,
      "metadata": {
        "id": "1ueAAFiJmYBK",
        "colab": {
          "base_uri": "https://localhost:8080/"
        },
        "outputId": "16fe7862-20aa-4b33-c8a9-3ab138de7922"
      },
      "outputs": [
        {
          "output_type": "stream",
          "name": "stdout",
          "text": [
            "c    100\n",
            "a    200\n",
            "b    300\n",
            "d    400\n",
            "dtype: int64\n"
          ]
        }
      ],
      "source": [
        "a.index = ['c', 'a', 'b', 'd']\n",
        "print(a)\n",
        "\n",
        "\n"
      ],
      "id": "1ueAAFiJmYBK"
    },
    {
      "cell_type": "markdown",
      "metadata": {
        "id": "ZdZLyRO7mYBK"
      },
      "source": [
        "Access the value in the series with index 'd'"
      ],
      "id": "ZdZLyRO7mYBK"
    },
    {
      "cell_type": "code",
      "execution_count": 10,
      "metadata": {
        "id": "oN1ce3GymYBK",
        "colab": {
          "base_uri": "https://localhost:8080/"
        },
        "outputId": "f071147f-b937-4739-b503-50e765432c45"
      },
      "outputs": [
        {
          "output_type": "stream",
          "name": "stdout",
          "text": [
            "400\n"
          ]
        }
      ],
      "source": [
        "print(a.loc['d'])\n",
        "\n"
      ],
      "id": "oN1ce3GymYBK"
    },
    {
      "cell_type": "markdown",
      "metadata": {
        "id": "eQSGwKtFmYBK"
      },
      "source": [
        "Sort the values wrt to the index and print it\n",
        "\n",
        "\n",
        "\n"
      ],
      "id": "eQSGwKtFmYBK"
    },
    {
      "cell_type": "code",
      "execution_count": 11,
      "metadata": {
        "id": "-arvricBmYBL",
        "colab": {
          "base_uri": "https://localhost:8080/"
        },
        "outputId": "6046a4de-8c83-43b4-e9b4-47b92f284e51"
      },
      "outputs": [
        {
          "output_type": "stream",
          "name": "stdout",
          "text": [
            "a    200\n",
            "b    300\n",
            "c    100\n",
            "d    400\n",
            "dtype: int64\n"
          ]
        }
      ],
      "source": [
        "a_sorted = a.sort_index()\n",
        "print(a_sorted)\n",
        "\n",
        "\n"
      ],
      "id": "-arvricBmYBL"
    },
    {
      "cell_type": "markdown",
      "metadata": {
        "id": "g-fXVSK2mYBL"
      },
      "source": [
        "Create a new Pandas Series b having index as 'e', 'f', and 'g' and value 800,450,100 and print it"
      ],
      "id": "g-fXVSK2mYBL"
    },
    {
      "cell_type": "code",
      "execution_count": 12,
      "metadata": {
        "id": "fAg_rI3hmYBL",
        "colab": {
          "base_uri": "https://localhost:8080/"
        },
        "outputId": "29a7e072-822e-4b48-c926-72c1a55793af"
      },
      "outputs": [
        {
          "output_type": "stream",
          "name": "stdout",
          "text": [
            "e    800\n",
            "f    450\n",
            "g    100\n",
            "dtype: int64\n"
          ]
        }
      ],
      "source": [
        "b = pd.Series([800, 450, 100], index=['e', 'f', 'g'])\n",
        "print(b)\n"
      ],
      "id": "fAg_rI3hmYBL"
    },
    {
      "cell_type": "markdown",
      "metadata": {
        "id": "jWhRRtF1mYBL"
      },
      "source": [
        "Append b series at the end of a series"
      ],
      "id": "jWhRRtF1mYBL"
    },
    {
      "cell_type": "code",
      "execution_count": 14,
      "metadata": {
        "id": "TBV8hkRXmYBL",
        "colab": {
          "base_uri": "https://localhost:8080/"
        },
        "outputId": "709aea96-6584-4715-ab16-12634d84a3d0"
      },
      "outputs": [
        {
          "output_type": "execute_result",
          "data": {
            "text/plain": [
              "c    100\n",
              "a    200\n",
              "b    300\n",
              "d    400\n",
              "e    800\n",
              "f    450\n",
              "g    100\n",
              "dtype: int64"
            ]
          },
          "metadata": {},
          "execution_count": 14
        }
      ],
      "source": [
        " pd.concat([a, b])\n",
        "\n"
      ],
      "id": "TBV8hkRXmYBL"
    },
    {
      "cell_type": "code",
      "execution_count": 39,
      "metadata": {
        "id": "Xfm5WgBYmYBM",
        "colab": {
          "base_uri": "https://localhost:8080/"
        },
        "outputId": "1b7108fa-967a-41bc-de02-8d3066b1e84e"
      },
      "outputs": [
        {
          "output_type": "stream",
          "name": "stdout",
          "text": [
            "c    100\n",
            "a    200\n",
            "b    300\n",
            "d    400\n",
            "e    800\n",
            "f    450\n",
            "g    100\n",
            "Name: points, dtype: int64\n"
          ]
        }
      ],
      "source": [
        "#print a again after appending b into it\n",
        "\n",
        "print (a)\n",
        "\n"
      ],
      "id": "Xfm5WgBYmYBM"
    },
    {
      "cell_type": "markdown",
      "metadata": {
        "id": "6lz_BR0umYBM"
      },
      "source": [
        "Sort the values in descending order of a and print the index of the sorted series"
      ],
      "id": "6lz_BR0umYBM"
    },
    {
      "cell_type": "code",
      "execution_count": 16,
      "metadata": {
        "id": "5srJV0y0mYBM",
        "colab": {
          "base_uri": "https://localhost:8080/"
        },
        "outputId": "ebff264e-216c-4e97-b478-428c7a86b8dc"
      },
      "outputs": [
        {
          "output_type": "stream",
          "name": "stdout",
          "text": [
            "c    100\n",
            "a    200\n",
            "b    300\n",
            "d    400\n",
            "dtype: int64\n"
          ]
        }
      ],
      "source": [
        "# a =a.sort_values(ascending= False)\n",
        "print(a)\n",
        "\n"
      ],
      "id": "5srJV0y0mYBM"
    },
    {
      "cell_type": "code",
      "execution_count": 17,
      "metadata": {
        "id": "9OxmwQRAmYBM",
        "colab": {
          "base_uri": "https://localhost:8080/"
        },
        "outputId": "f23580e5-8d8d-4ea4-8bbe-9ae6ec01f475"
      },
      "outputs": [
        {
          "output_type": "stream",
          "name": "stdout",
          "text": [
            "Index(['c', 'a', 'b', 'd'], dtype='object')\n"
          ]
        }
      ],
      "source": [
        "print(a.index)\n",
        "\n"
      ],
      "id": "9OxmwQRAmYBM"
    },
    {
      "cell_type": "markdown",
      "metadata": {
        "id": "OQ5gj4romYBM"
      },
      "source": [
        "## Pandas DataFrame"
      ],
      "id": "OQ5gj4romYBM"
    },
    {
      "cell_type": "markdown",
      "metadata": {
        "id": "tD7de_2amYBM"
      },
      "source": [
        "### Part 1"
      ],
      "id": "tD7de_2amYBM"
    },
    {
      "cell_type": "markdown",
      "metadata": {
        "id": "z_nAQa4BmYBN"
      },
      "source": [
        "Create a pandas dataframe df from the series 'a' that we used in the last section, print the dataframe"
      ],
      "id": "z_nAQa4BmYBN"
    },
    {
      "cell_type": "code",
      "execution_count": 20,
      "metadata": {
        "id": "ojD-B6FvmYBN"
      },
      "outputs": [],
      "source": [
        "df = pd.DataFrame(a)"
      ],
      "id": "ojD-B6FvmYBN"
    },
    {
      "cell_type": "code",
      "execution_count": 21,
      "metadata": {
        "id": "2r2SyCYNmYBN",
        "colab": {
          "base_uri": "https://localhost:8080/"
        },
        "outputId": "78e1c793-3a66-4f12-a7d6-84e8ed66cd3b"
      },
      "outputs": [
        {
          "output_type": "stream",
          "name": "stdout",
          "text": [
            "     0\n",
            "c  100\n",
            "a  200\n",
            "b  300\n",
            "d  400\n"
          ]
        }
      ],
      "source": [
        "print(df)"
      ],
      "id": "2r2SyCYNmYBN"
    },
    {
      "cell_type": "markdown",
      "metadata": {
        "id": "yzrIH3irmYBN"
      },
      "source": [
        "What is the shape of the datafarme <br>\n",
        "(also, what does it imply?)"
      ],
      "id": "yzrIH3irmYBN"
    },
    {
      "cell_type": "code",
      "execution_count": 22,
      "metadata": {
        "id": "aFo5tNrVmYBN",
        "colab": {
          "base_uri": "https://localhost:8080/"
        },
        "outputId": "a3aef048-1fa9-4c69-a0a8-742dd2bfef75"
      },
      "outputs": [
        {
          "output_type": "execute_result",
          "data": {
            "text/plain": [
              "(4, 1)"
            ]
          },
          "metadata": {},
          "execution_count": 22
        }
      ],
      "source": [
        "df.shape\n"
      ],
      "id": "aFo5tNrVmYBN"
    },
    {
      "cell_type": "markdown",
      "metadata": {
        "id": "Dl0Hr0LSmYBO"
      },
      "source": [
        "Hey! remember shape (7,1) implies dataframe has 7 rows and 1 column."
      ],
      "id": "Dl0Hr0LSmYBO"
    },
    {
      "cell_type": "markdown",
      "metadata": {
        "id": "hwcaXl43mYBO"
      },
      "source": [
        "What is the index of the dataframe, is it same as the series 'a'"
      ],
      "id": "hwcaXl43mYBO"
    },
    {
      "cell_type": "code",
      "execution_count": 24,
      "metadata": {
        "id": "1-gMxT-emYBO",
        "colab": {
          "base_uri": "https://localhost:8080/"
        },
        "outputId": "1f7a5053-2a39-4709-8bd0-e67f24c9812b"
      },
      "outputs": [
        {
          "output_type": "execute_result",
          "data": {
            "text/plain": [
              "Index(['c', 'a', 'b', 'd'], dtype='object')"
            ]
          },
          "metadata": {},
          "execution_count": 24
        }
      ],
      "source": [
        "# yep its same as the series.\n",
        "\n",
        "df.index\n"
      ],
      "id": "1-gMxT-emYBO"
    },
    {
      "cell_type": "markdown",
      "metadata": {
        "id": "C5wadnBymYBO"
      },
      "source": [
        "print the head and tail of the dataframe. <br>\n",
        "Additional - (what does head and tali represent?)"
      ],
      "id": "C5wadnBymYBO"
    },
    {
      "cell_type": "code",
      "execution_count": 36,
      "metadata": {
        "id": "U2vxYrPnmYBO",
        "colab": {
          "base_uri": "https://localhost:8080/"
        },
        "outputId": "0e03b162-eeef-417f-9118-fa0e817cb552"
      },
      "outputs": [
        {
          "output_type": "stream",
          "name": "stdout",
          "text": [
            "Head of the Series:\n",
            "c    100\n",
            "a    200\n",
            "b    300\n",
            "d    400\n",
            "e    800\n",
            "Name: points, dtype: int64\n",
            "\n",
            "Tail of the Series:\n",
            "b    300\n",
            "d    400\n",
            "e    800\n",
            "f    450\n",
            "g    100\n",
            "Name: points, dtype: int64\n"
          ]
        }
      ],
      "source": [
        "print(\"Head of the Series:\")\n",
        "print(a.head()) # Prints the first 5 rows of the datasets\n",
        "\n",
        "print(\"\\nTail of the Series:\")\n",
        "print(a.tail()) # Prints the last 5 rows of the datasets\n",
        "\n"
      ],
      "id": "U2vxYrPnmYBO"
    },
    {
      "cell_type": "markdown",
      "metadata": {
        "id": "Ci2tiwbBmYBO"
      },
      "source": [
        "Rename the column of the dataframe as 'points'"
      ],
      "id": "Ci2tiwbBmYBO"
    },
    {
      "cell_type": "code",
      "execution_count": 38,
      "metadata": {
        "id": "K3OsbVD3mYBP",
        "colab": {
          "base_uri": "https://localhost:8080/"
        },
        "outputId": "5eac1540-94d0-4607-f320-150acc85706c"
      },
      "outputs": [
        {
          "output_type": "stream",
          "name": "stdout",
          "text": [
            "   points\n",
            "c     100\n",
            "a     200\n",
            "b     300\n",
            "d     400\n"
          ]
        }
      ],
      "source": [
        "df =df.rename(columns={0:'points'})\n",
        "print(df)\n",
        "\n",
        "\n"
      ],
      "id": "K3OsbVD3mYBP"
    },
    {
      "cell_type": "markdown",
      "metadata": {
        "id": "bBV0VfzzmYBP"
      },
      "source": [
        "Create another Series 'fruits', which contains random names of fruits from ['orange','mango','apple']. The series should contain 7 elements, randomly selected from ['orange','mango','apple']"
      ],
      "id": "bBV0VfzzmYBP"
    },
    {
      "cell_type": "code",
      "execution_count": 33,
      "metadata": {
        "id": "baUmpsuhmYBP",
        "colab": {
          "base_uri": "https://localhost:8080/"
        },
        "outputId": "ec375609-8dd9-45f5-dc9d-c548ff30547c"
      },
      "outputs": [
        {
          "output_type": "stream",
          "name": "stdout",
          "text": [
            "0     apple\n",
            "1     apple\n",
            "2     mango\n",
            "3     apple\n",
            "4    orange\n",
            "5     mango\n",
            "6    orange\n",
            "Name: fruits, dtype: object\n"
          ]
        }
      ],
      "source": [
        "#Create fruits array\n",
        "fruits = pd.Series(random_fruits, name='fruits')\n",
        "\n",
        "print(fruits)"
      ],
      "id": "baUmpsuhmYBP"
    },
    {
      "cell_type": "code",
      "execution_count": 32,
      "metadata": {
        "id": "QrbnjM8FmYBP",
        "colab": {
          "base_uri": "https://localhost:8080/"
        },
        "outputId": "db4164e5-4010-450c-cfa8-d2ad55179eef"
      },
      "outputs": [
        {
          "output_type": "stream",
          "name": "stdout",
          "text": [
            "0     apple\n",
            "1     apple\n",
            "2     mango\n",
            "3     apple\n",
            "4    orange\n",
            "5     mango\n",
            "6    orange\n",
            "Name: fruits, dtype: object\n"
          ]
        }
      ],
      "source": [
        "#Create series fruits out of fruits array\n",
        "\n",
        "# fruits = pd.series(fruits)\n",
        "print(fruits)"
      ],
      "id": "QrbnjM8FmYBP"
    },
    {
      "cell_type": "markdown",
      "metadata": {
        "id": "20slMbq5mYBP"
      },
      "source": [
        "Change the index of fruits to the index of dataframe df"
      ],
      "id": "20slMbq5mYBP"
    },
    {
      "cell_type": "markdown",
      "metadata": {
        "id": "oPv8dJ_2mYBQ"
      },
      "source": [
        "Add this fruits series as a new column to the dataframe df with its column name as 'fruits'\n",
        "<br>print the head of the dataframe to verify"
      ],
      "id": "oPv8dJ_2mYBQ"
    },
    {
      "cell_type": "code",
      "execution_count": 48,
      "metadata": {
        "id": "tit_GDscmYBQ"
      },
      "outputs": [],
      "source": [
        "df = pd.DataFrame({'points': [100, 200, 300, 400, 800, 450, 100]},\n",
        "                  index=['c', 'a', 'b', 'd', 'e', 'f', 'g'])"
      ],
      "id": "tit_GDscmYBQ"
    },
    {
      "cell_type": "code",
      "source": [
        "df['fruits'] = fruits  # Add the 'fruits' Series as a new column\n",
        "print(df.head())     # Print the head of the DataFrame to verify"
      ],
      "metadata": {
        "colab": {
          "base_uri": "https://localhost:8080/"
        },
        "id": "Fe4lgxEs6JcW",
        "outputId": "baaf993e-f815-4641-fc23-4a3a57bdb902"
      },
      "id": "Fe4lgxEs6JcW",
      "execution_count": 49,
      "outputs": [
        {
          "output_type": "stream",
          "name": "stdout",
          "text": [
            "   points fruits\n",
            "c     100    NaN\n",
            "a     200    NaN\n",
            "b     300    NaN\n",
            "d     400    NaN\n",
            "e     800    NaN\n"
          ]
        }
      ]
    },
    {
      "cell_type": "markdown",
      "metadata": {
        "id": "ACsvenslmYBQ"
      },
      "source": [
        "## Pandas Concatenation"
      ],
      "id": "ACsvenslmYBQ"
    },
    {
      "cell_type": "markdown",
      "metadata": {
        "id": "cwgg82N0mYBQ"
      },
      "source": [
        "Create a dataframe  d1 where the cols are  ‘city’ : [‘Chandigarh’, ‘Delhi’, ‘Kanpur’, ‘Chennai’, ‘Manali’ ] and ‘Temperature’ : [15, 22, 20, 26,-2]"
      ],
      "id": "cwgg82N0mYBQ"
    },
    {
      "cell_type": "code",
      "execution_count": 53,
      "metadata": {
        "id": "09tWwU18mYBR"
      },
      "outputs": [],
      "source": [
        "import pandas as pd\n",
        "\n",
        "# Create a dictionary with the data\n",
        "data = {'city': ['Chandigarh', 'Delhi', 'Kanpur', 'Chennai', 'Manali'],\n",
        "        'Temperature': [15, 22, 20, 26, -2]}"
      ],
      "id": "09tWwU18mYBR"
    },
    {
      "cell_type": "markdown",
      "metadata": {
        "id": "XAquuUx_mYBR"
      },
      "source": [
        "Print(d1)"
      ],
      "id": "XAquuUx_mYBR"
    },
    {
      "cell_type": "code",
      "execution_count": 54,
      "metadata": {
        "id": "tEaf6dUVmYBR",
        "colab": {
          "base_uri": "https://localhost:8080/"
        },
        "outputId": "c15be8ff-ef90-4df5-b983-fc3a8edeb27e"
      },
      "outputs": [
        {
          "output_type": "stream",
          "name": "stdout",
          "text": [
            "         city  Temperature\n",
            "0  Chandigarh           15\n",
            "1       Delhi           22\n",
            "2      Kanpur           20\n",
            "3     Chennai           26\n",
            "4      Manali           -2\n"
          ]
        }
      ],
      "source": [
        "print(d1)\n",
        "\n",
        "\n"
      ],
      "id": "tEaf6dUVmYBR"
    },
    {
      "cell_type": "markdown",
      "metadata": {
        "id": "YmZ9u-4FmYBR"
      },
      "source": [
        "What is the shape of d1."
      ],
      "id": "YmZ9u-4FmYBR"
    },
    {
      "cell_type": "code",
      "execution_count": 56,
      "metadata": {
        "id": "upPyfWR7mYBR",
        "colab": {
          "base_uri": "https://localhost:8080/"
        },
        "outputId": "16e6887e-d623-400d-e187-128aff20ee5c"
      },
      "outputs": [
        {
          "output_type": "execute_result",
          "data": {
            "text/plain": [
              "(5, 2)"
            ]
          },
          "metadata": {},
          "execution_count": 56
        }
      ],
      "source": [
        "d1.shape\n",
        "\n",
        "\n"
      ],
      "id": "upPyfWR7mYBR"
    },
    {
      "cell_type": "markdown",
      "metadata": {
        "id": "JtBQ5SLtmYBS"
      },
      "source": [
        "Set city = d1['city']"
      ],
      "id": "JtBQ5SLtmYBS"
    },
    {
      "cell_type": "code",
      "execution_count": 57,
      "metadata": {
        "id": "mzE78QzrmYBS"
      },
      "outputs": [],
      "source": [
        "city= d1['city']"
      ],
      "id": "mzE78QzrmYBS"
    },
    {
      "cell_type": "markdown",
      "metadata": {
        "id": "WubWnFIcmYBS"
      },
      "source": [
        "print city <br>\n",
        "What is the type of city."
      ],
      "id": "WubWnFIcmYBS"
    },
    {
      "cell_type": "code",
      "execution_count": 58,
      "metadata": {
        "id": "6d4EjYTemYBS",
        "colab": {
          "base_uri": "https://localhost:8080/"
        },
        "outputId": "b4bdfa6d-f1b1-4887-ed64-22ce3a46de8d"
      },
      "outputs": [
        {
          "output_type": "stream",
          "name": "stdout",
          "text": [
            "0    Chandigarh\n",
            "1         Delhi\n",
            "2        Kanpur\n",
            "3       Chennai\n",
            "4        Manali\n",
            "Name: city, dtype: object\n",
            "<class 'pandas.core.series.Series'>\n"
          ]
        }
      ],
      "source": [
        "print(city)\n",
        "print(type(city))\n",
        "\n",
        "\n"
      ],
      "id": "6d4EjYTemYBS"
    },
    {
      "cell_type": "markdown",
      "metadata": {
        "id": "uUdrLgg6mYBS"
      },
      "source": [
        "Create another datafeame 'd2' where the columns are <br>\n",
        "'city' - ['Bengalaru','Coimbatore','Srirangam','Pondicherry'] <br>\n",
        "'Temperature' - [24,35,36,39]"
      ],
      "id": "uUdrLgg6mYBS"
    },
    {
      "cell_type": "code",
      "execution_count": 66,
      "metadata": {
        "id": "CFBCGcvhmYBS",
        "colab": {
          "base_uri": "https://localhost:8080/"
        },
        "outputId": "c3dd3f54-2729-41e7-dd33-74547ab1117d"
      },
      "outputs": [
        {
          "output_type": "stream",
          "name": "stdout",
          "text": [
            "          city  Temperature\n",
            "0    Bengaluru           24\n",
            "1   Coimbatore           35\n",
            "2    Srirangam           36\n",
            "3  Pondicherry           39\n"
          ]
        }
      ],
      "source": [
        "import pandas as pd\n",
        "\n",
        "# Create a dictionary for d2\n",
        "data2 = {'city': ['Bengaluru', 'Coimbatore', 'Srirangam', 'Pondicherry'],\n",
        "         'Temperature': [24, 35, 36, 39]}\n",
        "\n",
        "# Create the DataFrame d2\n",
        "d2 = pd.DataFrame(data2)\n",
        "\n",
        "print(d2)"
      ],
      "id": "CFBCGcvhmYBS"
    },
    {
      "cell_type": "markdown",
      "metadata": {
        "id": "HivVdLN5mYBT"
      },
      "source": [
        "print the shape of this dataframe"
      ],
      "id": "HivVdLN5mYBT"
    },
    {
      "cell_type": "code",
      "execution_count": 67,
      "metadata": {
        "id": "9FFgtQJhmYBT",
        "colab": {
          "base_uri": "https://localhost:8080/"
        },
        "outputId": "7886306e-c067-47ee-f198-f110e141e8a7"
      },
      "outputs": [
        {
          "output_type": "execute_result",
          "data": {
            "text/plain": [
              "(4, 2)"
            ]
          },
          "metadata": {},
          "execution_count": 67
        }
      ],
      "source": [
        "d2.shape\n"
      ],
      "id": "9FFgtQJhmYBT"
    },
    {
      "cell_type": "markdown",
      "metadata": {
        "id": "UK38h5ktmYBT"
      },
      "source": [
        "merge the two dataframes together, save it in a new dataframe named 'd3'"
      ],
      "id": "UK38h5ktmYBT"
    },
    {
      "cell_type": "code",
      "execution_count": 69,
      "metadata": {
        "id": "GMbOPfjCmYBT"
      },
      "outputs": [],
      "source": [
        "# d3 = pd.concat([d1,d2]), axis =0)"
      ],
      "id": "GMbOPfjCmYBT"
    },
    {
      "cell_type": "markdown",
      "metadata": {
        "id": "1dGlNGzjmYBT"
      },
      "source": [
        "Select the part of the dataframe such that it contains cities wherer temp is less then or equal to 20 <br>\n",
        "How many cities are there?"
      ],
      "id": "1dGlNGzjmYBT"
    },
    {
      "cell_type": "code",
      "execution_count": 70,
      "metadata": {
        "id": "1vtC2UkgmYBT",
        "colab": {
          "base_uri": "https://localhost:8080/"
        },
        "outputId": "700f4303-9801-4cb6-bb3e-cd372e2524b1"
      },
      "outputs": [
        {
          "output_type": "stream",
          "name": "stdout",
          "text": [
            "         city  Temperature\n",
            "0  Chandigarh           15\n",
            "2      Kanpur           20\n",
            "4      Manali           -2\n",
            "\n",
            "Number of cities with temperature less than or equal to 20: 3\n"
          ]
        }
      ],
      "source": [
        "import pandas as pd\n",
        "\n",
        "# Create the DataFrames (assuming you have d1 and d2 from previous steps)\n",
        "# ...\n",
        "\n",
        "# Select cities with temperature less than or equal to 20 in d1\n",
        "d1_selected = d1[d1['Temperature'] <= 20]\n",
        "\n",
        "# Select cities with temperature less than or equal to 20 in d2\n",
        "d2_selected = d2[d2['Temperature'] <= 20]\n",
        "\n",
        "# Combine the selected parts of d1 and d2\n",
        "combined_selected = pd.concat([d1_selected, d2_selected])\n",
        "\n",
        "print(combined_selected)\n",
        "\n",
        "# Count the number of cities\n",
        "num_cities = len(combined_selected)\n",
        "print(\"\\nNumber of cities with temperature less than or equal to 20:\", num_cities)\n"
      ],
      "id": "1vtC2UkgmYBT"
    },
    {
      "cell_type": "markdown",
      "metadata": {
        "id": "82QIQRQUmYBT"
      },
      "source": [
        "Select the part of the dataframe such that it contains the cities where tempearature greater than or equal to 35"
      ],
      "id": "82QIQRQUmYBT"
    },
    {
      "cell_type": "code",
      "execution_count": 71,
      "metadata": {
        "id": "Ea_hMtyGmYBU",
        "colab": {
          "base_uri": "https://localhost:8080/"
        },
        "outputId": "429096d0-2976-4960-d4b0-10c5b314c763"
      },
      "outputs": [
        {
          "output_type": "stream",
          "name": "stdout",
          "text": [
            "          city  Temperature\n",
            "1   Coimbatore           35\n",
            "2    Srirangam           36\n",
            "3  Pondicherry           39\n"
          ]
        }
      ],
      "source": [
        "import pandas as pd\n",
        "\n",
        "# Create the DataFrames (assuming you have d1 and d2 from previous steps)\n",
        "# ...\n",
        "\n",
        "# Select cities with temperature greater than or equal to 35 in d1\n",
        "d1_selected = d1[d1['Temperature'] >= 35]\n",
        "\n",
        "# Select cities with temperature greater than or equal to 35 in d2\n",
        "d2_selected = d2[d2['Temperature'] >= 35]\n",
        "\n",
        "# Combine the selected parts of d1 and d2\n",
        "combined_selected = pd.concat([d1_selected, d2_selected])\n",
        "\n",
        "print(combined_selected)"
      ],
      "id": "Ea_hMtyGmYBU"
    },
    {
      "cell_type": "markdown",
      "metadata": {
        "id": "BrYscXpWmYBU"
      },
      "source": [
        "## Applying functions to columns and creating new columns"
      ],
      "id": "BrYscXpWmYBU"
    },
    {
      "cell_type": "markdown",
      "metadata": {
        "id": "7Z4ioDxtmYBU"
      },
      "source": [
        "We need to create another column in d3, which contains  a boolean value for each city to indicate whether it's a union territory or not.\n",
        "- HINT: Chandigarh, Pondicherry and Delhi are only 3 union territories here.\n"
      ],
      "id": "7Z4ioDxtmYBU"
    },
    {
      "cell_type": "code",
      "execution_count": 72,
      "metadata": {
        "id": "FR2wgv6tmYBU"
      },
      "outputs": [],
      "source": [
        "# write function here\n",
        "import pandas as pd\n",
        "\n",
        "# Create the DataFrames (assuming you have d1 and d2 from previous steps)\n",
        "# ...\n",
        "\n",
        "# Combine d1 and d2 into a single DataFrame d3\n",
        "d3 = pd.concat([d1, d2])\n",
        "\n",
        "# Create a list of union territories\n",
        "union_territories = ['Chandigarh', 'Pondicherry', 'Delhi']\n",
        "\n",
        "# Create a new column 'is_union_territory' based on whether the city is in the list\n",
        "d3['is_union_territory'] = d3['city'].isin(union_territories)\n"
      ],
      "id": "FR2wgv6tmYBU"
    },
    {
      "cell_type": "code",
      "execution_count": 73,
      "metadata": {
        "id": "0hd7QjComYBU",
        "colab": {
          "base_uri": "https://localhost:8080/"
        },
        "outputId": "422eeb7b-f856-4aa5-f1fe-068f3c41fced"
      },
      "outputs": [
        {
          "output_type": "stream",
          "name": "stdout",
          "text": [
            "          city  Temperature  is_union_territory\n",
            "0   Chandigarh           15                True\n",
            "1        Delhi           22                True\n",
            "2       Kanpur           20               False\n",
            "3      Chennai           26               False\n",
            "4       Manali           -2               False\n",
            "0    Bengaluru           24               False\n",
            "1   Coimbatore           35               False\n",
            "2    Srirangam           36               False\n",
            "3  Pondicherry           39                True\n"
          ]
        }
      ],
      "source": [
        "# print d3\n",
        "print(d3)\n"
      ],
      "id": "0hd7QjComYBU"
    },
    {
      "cell_type": "markdown",
      "metadata": {
        "id": "z88YETlMmYBU"
      },
      "source": [
        "The temperatures mentioned in ‘Temperature’ column are mentioned in Celsius, we need another column which contains the same in Fahrenheit."
      ],
      "id": "z88YETlMmYBU"
    },
    {
      "cell_type": "markdown",
      "metadata": {
        "id": "ywp07m-xmYBU"
      },
      "source": [
        "HINT -\n",
        "- Define a function c_to_f which takes input temp in celsius and returns a value with temperature in Fahrenheit.\n",
        "- To check: c_to_f(10) should return 50.\n"
      ],
      "id": "ywp07m-xmYBU"
    },
    {
      "cell_type": "code",
      "execution_count": 74,
      "metadata": {
        "id": "V0x_0IAAmYBV",
        "colab": {
          "base_uri": "https://localhost:8080/"
        },
        "outputId": "dc4f87fe-45b6-42b7-e309-df0c0c56f50a"
      },
      "outputs": [
        {
          "output_type": "stream",
          "name": "stdout",
          "text": [
            "          city  Temperature  is_union_territory  Temperature_F\n",
            "0   Chandigarh           15                True           59.0\n",
            "1        Delhi           22                True           71.6\n",
            "2       Kanpur           20               False           68.0\n",
            "3      Chennai           26               False           78.8\n",
            "4       Manali           -2               False           28.4\n",
            "0    Bengaluru           24               False           75.2\n",
            "1   Coimbatore           35               False           95.0\n",
            "2    Srirangam           36               False           96.8\n",
            "3  Pondicherry           39                True          102.2\n"
          ]
        }
      ],
      "source": [
        "# write function here\n",
        "import pandas as pd\n",
        "\n",
        "# Create the DataFrames (assuming you have d1 and d2 from previous steps)\n",
        "# ...\n",
        "\n",
        "# Combine d1 and d2 into a single DataFrame d3\n",
        "d3 = pd.concat([d1, d2])\n",
        "\n",
        "# Create a list of union territories\n",
        "union_territories = ['Chandigarh', 'Pondicherry', 'Delhi']\n",
        "\n",
        "# Create a new column 'is_union_territory' based on whether the city is in the list\n",
        "d3['is_union_territory'] = d3['city'].isin(union_territories)\n",
        "\n",
        "# Define the Celsius to Fahrenheit conversion function\n",
        "def c_to_f(temp_celsius):\n",
        "  \"\"\"Converts temperature from Celsius to Fahrenheit.\"\"\"\n",
        "  temp_fahrenheit = (temp_celsius * 9/5) + 32\n",
        "  return temp_fahrenheit\n",
        "\n",
        "# Apply the c_to_f function to the 'Temperature' column and create a new column 'Temperature_F'\n",
        "d3['Temperature_F'] = d3['Temperature'].apply(c_to_f)\n",
        "\n",
        "print(d3)"
      ],
      "id": "V0x_0IAAmYBV"
    },
    {
      "cell_type": "code",
      "execution_count": 75,
      "metadata": {
        "id": "Wc9meranmYBV",
        "colab": {
          "base_uri": "https://localhost:8080/"
        },
        "outputId": "bcecbc73-4adb-409c-8bda-ce9c20fc4555"
      },
      "outputs": [
        {
          "output_type": "stream",
          "name": "stdout",
          "text": [
            "50.0\n"
          ]
        }
      ],
      "source": [
        "# check function c_to_f(10)\n",
        "import pandas as pd\n",
        "\n",
        "# ... (previous code for creating d3 and c_to_f)\n",
        "\n",
        "# Check the c_to_f function with 10 degrees Celsius\n",
        "result = c_to_f(10)\n",
        "print(result)"
      ],
      "id": "Wc9meranmYBV"
    },
    {
      "cell_type": "code",
      "execution_count": 76,
      "metadata": {
        "id": "H79GUcoImYBV",
        "colab": {
          "base_uri": "https://localhost:8080/"
        },
        "outputId": "a79104da-451e-46ef-d023-e5b9aeafb0ad"
      },
      "outputs": [
        {
          "output_type": "stream",
          "name": "stdout",
          "text": [
            "          city  Temperature  is_union_territory  temp_farenheit\n",
            "0   Chandigarh           15                True            59.0\n",
            "1        Delhi           22                True            71.6\n",
            "2       Kanpur           20               False            68.0\n",
            "3      Chennai           26               False            78.8\n",
            "4       Manali           -2               False            28.4\n",
            "0    Bengaluru           24               False            75.2\n",
            "1   Coimbatore           35               False            95.0\n",
            "2    Srirangam           36               False            96.8\n",
            "3  Pondicherry           39                True           102.2\n"
          ]
        }
      ],
      "source": [
        "# apply function c_to_f to d3 to create a column 'temp_farenhiet'\n",
        "import pandas as pd\n",
        "\n",
        "# Create the DataFrames (assuming you have d1 and d2 from previous steps)\n",
        "# ...\n",
        "\n",
        "# Combine d1 and d2 into a single DataFrame d3\n",
        "d3 = pd.concat([d1, d2])\n",
        "\n",
        "# Create a list of union territories\n",
        "union_territories = ['Chandigarh', 'Pondicherry', 'Delhi']\n",
        "\n",
        "# Create a new column 'is_union_territory' based on whether the city is in the list\n",
        "d3['is_union_territory'] = d3['city'].isin(union_territories)\n",
        "\n",
        "# Define the Celsius to Fahrenheit conversion function\n",
        "def c_to_f(temp_celsius):\n",
        "  \"\"\"Converts temperature from Celsius to Fahrenheit.\"\"\"\n",
        "  temp_fahrenheit = (temp_celsius * 9/5) + 32\n",
        "  return temp_fahrenheit\n",
        "\n",
        "# Apply the c_to_f function to the 'Temperature' column and create a new column 'temp_farenheit'\n",
        "d3['temp_farenheit'] = d3['Temperature'].apply(c_to_f)\n",
        "\n",
        "print(d3)"
      ],
      "id": "H79GUcoImYBV"
    },
    {
      "cell_type": "markdown",
      "metadata": {
        "id": "Wj0p6JKHmYBV"
      },
      "source": [
        "## Indexing and selecting rows in DataFrame"
      ],
      "id": "Wj0p6JKHmYBV"
    },
    {
      "cell_type": "markdown",
      "metadata": {
        "id": "fFitRJy2mYBV"
      },
      "source": [
        "Select subset of the dataframe d1 such that it contains the cities which are union territories."
      ],
      "id": "fFitRJy2mYBV"
    },
    {
      "cell_type": "code",
      "execution_count": 77,
      "metadata": {
        "id": "Kg8OSVz0mYBV",
        "colab": {
          "base_uri": "https://localhost:8080/"
        },
        "outputId": "76221870-da93-4f9c-fafb-27d0a3d9f8c7"
      },
      "outputs": [
        {
          "output_type": "stream",
          "name": "stdout",
          "text": [
            "         city  Temperature\n",
            "0  Chandigarh           15\n",
            "1       Delhi           22\n"
          ]
        }
      ],
      "source": [
        "import pandas as pd\n",
        "\n",
        "# Create the DataFrame d1 (assuming you have it from previous steps)\n",
        "# ...\n",
        "\n",
        "# Create a list of union territories\n",
        "union_territories = ['Chandigarh', 'Pondicherry', 'Delhi']\n",
        "\n",
        "# Select cities in d1 that are union territories\n",
        "d1_union_territories = d1[d1['city'].isin(union_territories)]\n",
        "\n",
        "print(d1_union_territories)"
      ],
      "id": "Kg8OSVz0mYBV"
    },
    {
      "cell_type": "markdown",
      "metadata": {
        "id": "XnxQl4ZPmYBV"
      },
      "source": [
        "Select a subset of the dataframe d1 such that it contains the cities which only have temperature above 90 Farenhiet."
      ],
      "id": "XnxQl4ZPmYBV"
    },
    {
      "cell_type": "code",
      "execution_count": 78,
      "metadata": {
        "id": "9o62VSn7mYBV",
        "colab": {
          "base_uri": "https://localhost:8080/"
        },
        "outputId": "cf062733-a755-4e66-ead7-0cdbfb48e336"
      },
      "outputs": [
        {
          "output_type": "stream",
          "name": "stdout",
          "text": [
            "          city  Temperature  is_union_territory  temp_farenheit\n",
            "1   Coimbatore           35               False            95.0\n",
            "2    Srirangam           36               False            96.8\n",
            "3  Pondicherry           39                True           102.2\n"
          ]
        }
      ],
      "source": [
        "import pandas as pd\n",
        "\n",
        "# ... (Assuming you have created d3 in previous steps)\n",
        "\n",
        "# Select cities in d3 with temperature above 90 Fahrenheit\n",
        "d3_above_90F = d3[d3['temp_farenheit'] > 90]\n",
        "\n",
        "print(d3_above_90F)"
      ],
      "id": "9o62VSn7mYBV"
    },
    {
      "cell_type": "markdown",
      "metadata": {
        "id": "IQq7K2EtmYBW"
      },
      "source": [
        "Select only the first three rows of the dataframe d1.\n"
      ],
      "id": "IQq7K2EtmYBW"
    },
    {
      "cell_type": "code",
      "execution_count": 79,
      "metadata": {
        "id": "PlmVOyAAmYBW",
        "colab": {
          "base_uri": "https://localhost:8080/"
        },
        "outputId": "2110ab27-b495-4792-a698-0e411ccd8821"
      },
      "outputs": [
        {
          "output_type": "stream",
          "name": "stdout",
          "text": [
            "         city  Temperature\n",
            "0  Chandigarh           15\n",
            "1       Delhi           22\n",
            "2      Kanpur           20\n"
          ]
        }
      ],
      "source": [
        "import pandas as pd\n",
        "\n",
        "# Create the DataFrame d1 (assuming you have it from previous steps)\n",
        "# ...\n",
        "\n",
        "# Select the first three rows of d1\n",
        "d1_first_three = d1.head(3)\n",
        "\n",
        "print(d1_first_three)"
      ],
      "id": "PlmVOyAAmYBW"
    },
    {
      "cell_type": "markdown",
      "metadata": {
        "id": "MKNIbwW2mYBW"
      },
      "source": [
        "Select all the rows and last two columns in the dataframe.\n",
        "\n",
        "\n"
      ],
      "id": "MKNIbwW2mYBW"
    },
    {
      "cell_type": "code",
      "execution_count": 80,
      "metadata": {
        "id": "WfQasVJImYBW",
        "colab": {
          "base_uri": "https://localhost:8080/"
        },
        "outputId": "7d0565a4-af26-48b6-e676-f659d081241a"
      },
      "outputs": [
        {
          "output_type": "stream",
          "name": "stdout",
          "text": [
            "   is_union_territory  temp_farenheit\n",
            "0                True            59.0\n",
            "1                True            71.6\n",
            "2               False            68.0\n",
            "3               False            78.8\n",
            "4               False            28.4\n",
            "0               False            75.2\n",
            "1               False            95.0\n",
            "2               False            96.8\n",
            "3                True           102.2\n"
          ]
        }
      ],
      "source": [
        "import pandas as pd\n",
        "\n",
        "# Create the DataFrame (assuming you have it from previous steps)\n",
        "# ...\n",
        "\n",
        "# Select all rows and the last two columns\n",
        "subset = d3.iloc[:, -2:]\n",
        "\n",
        "print(subset)"
      ],
      "id": "WfQasVJImYBW"
    },
    {
      "cell_type": "markdown",
      "metadata": {
        "id": "LQ9xspkHmYBW"
      },
      "source": [
        "## Groupby"
      ],
      "id": "LQ9xspkHmYBW"
    },
    {
      "cell_type": "code",
      "execution_count": 88,
      "metadata": {
        "id": "IhPmh2qSUIfI",
        "colab": {
          "base_uri": "https://localhost:8080/"
        },
        "outputId": "44df616b-35b6-48a4-f901-ab330d577e2d"
      },
      "outputs": [
        {
          "output_type": "stream",
          "name": "stdout",
          "text": [
            "                                     movie_title  release_year  \\\n",
            "0                       The Shawshank Redemption          1994   \n",
            "1                                The Dark Knight          2008   \n",
            "2                                   Pulp Fiction          1994   \n",
            "3  The Lord of the Rings: The Return of the King          2003   \n",
            "\n",
            "            director                      genre  \n",
            "0     Frank Darabont                      Drama  \n",
            "1  Christopher Nolan       Action, Crime, Drama  \n",
            "2  Quentin Tarantino               Crime, Drama  \n",
            "3      Peter Jackson  Adventure, Drama, Fantasy  \n"
          ]
        }
      ],
      "source": [
        "# Create a dataframe using dictionary of your choice\n",
        "import pandas as pd\n",
        "\n",
        "# Create a dictionary with data for a movie database\n",
        "data = {\n",
        "    'movie_title': ['The Shawshank Redemption', 'The Dark Knight', 'Pulp Fiction', 'The Lord of the Rings: The Return of the King'],\n",
        "    'release_year': [1994, 2008, 1994, 2003],\n",
        "    'director': ['Frank Darabont', 'Christopher Nolan', 'Quentin Tarantino', 'Peter Jackson'],\n",
        "    'genre': ['Drama', 'Action, Crime, Drama', 'Crime, Drama', 'Adventure, Drama, Fantasy']\n",
        "}\n",
        "\n",
        "# Create a DataFrame from the dictionary\n",
        "movies_df = pd.DataFrame(data)\n",
        "\n",
        "print(movies_df)"
      ],
      "id": "IhPmh2qSUIfI"
    },
    {
      "cell_type": "code",
      "execution_count": 89,
      "metadata": {
        "id": "x8loPsRaUIfJ",
        "colab": {
          "base_uri": "https://localhost:8080/"
        },
        "outputId": "81aa4a22-8568-4727-8b7a-533f87f362d2"
      },
      "outputs": [
        {
          "output_type": "stream",
          "name": "stdout",
          "text": [
            "release_year\n",
            "1994    2\n",
            "2003    1\n",
            "2008    1\n",
            "Name: movie_title, dtype: int64\n"
          ]
        }
      ],
      "source": [
        "# Use Groupby of single column with aggregate sum()\n",
        "import pandas as pd\n",
        "\n",
        "# ... (Assuming you have created movies_df in the previous step)\n",
        "\n",
        "# Group by 'release_year' and calculate the sum of movies in each year\n",
        "movies_by_year = movies_df.groupby('release_year')['movie_title'].count()\n",
        "\n",
        "print(movies_by_year)"
      ],
      "id": "x8loPsRaUIfJ"
    },
    {
      "cell_type": "code",
      "execution_count": 90,
      "metadata": {
        "id": "VIWxl25_UIfK",
        "colab": {
          "base_uri": "https://localhost:8080/"
        },
        "outputId": "67cb5ea8-b54f-4793-ba4b-d1fec14f4ae7"
      },
      "outputs": [
        {
          "output_type": "stream",
          "name": "stdout",
          "text": [
            "release_year\n",
            "1994    2\n",
            "2003    1\n",
            "2008    1\n",
            "Name: movie_title, dtype: int64\n"
          ]
        }
      ],
      "source": [
        "# Use Groupby of single column with aggregate count()\n",
        "import pandas as pd\n",
        "\n",
        "# ... (Assuming you have created movies_df in the previous step)\n",
        "\n",
        "# Group by 'release_year' and count the number of movies in each year\n",
        "movies_by_year = movies_df.groupby('release_year')['movie_title'].count()\n",
        "\n",
        "print(movies_by_year)"
      ],
      "id": "VIWxl25_UIfK"
    },
    {
      "cell_type": "code",
      "execution_count": 91,
      "metadata": {
        "id": "KRG71Pa8UIfK",
        "colab": {
          "base_uri": "https://localhost:8080/"
        },
        "outputId": "981c932e-4f22-4882-afa7-cc2b020d1af7"
      },
      "outputs": [
        {
          "output_type": "stream",
          "name": "stdout",
          "text": [
            "Earliest release year in each group:\n",
            "release_year\n",
            "1994    1994\n",
            "2003    2003\n",
            "2008    2008\n",
            "Name: release_year, dtype: int64\n",
            "\n",
            "Latest release year in each group:\n",
            "release_year\n",
            "1994    1994\n",
            "2003    2003\n",
            "2008    2008\n",
            "Name: release_year, dtype: int64\n"
          ]
        }
      ],
      "source": [
        "# Use Groupby of single column with aggregate min() and max()\n",
        "import pandas as pd\n",
        "\n",
        "# ... (Assuming you have created movies_df in the previous step)\n",
        "\n",
        "# Group by 'release_year' and find the earliest and latest release years\n",
        "min_year = movies_df.groupby('release_year')['release_year'].min()\n",
        "max_year = movies_df.groupby('release_year')['release_year'].max()\n",
        "\n",
        "print(\"Earliest release year in each group:\")\n",
        "print(min_year)\n",
        "\n",
        "print(\"\\nLatest release year in each group:\")\n",
        "print(max_year)"
      ],
      "id": "KRG71Pa8UIfK"
    },
    {
      "cell_type": "code",
      "execution_count": 92,
      "metadata": {
        "id": "2p6HydpzUIfK",
        "colab": {
          "base_uri": "https://localhost:8080/"
        },
        "outputId": "1c6b0377-0fa6-4860-fb2f-7348bf6684d2"
      },
      "outputs": [
        {
          "output_type": "stream",
          "name": "stdout",
          "text": [
            "                    score1  score2\n",
            "course  student_id                \n",
            "English 5             70.0    75.0\n",
            "        6             88.0    92.0\n",
            "Math    1             85.0    90.0\n",
            "        3             92.0    87.0\n",
            "Science 2             78.0    82.0\n",
            "        4             65.0    73.0\n"
          ]
        }
      ],
      "source": [
        "# Use Groupby of any 2 columns with aggregate mean()\n",
        "import pandas as pd\n",
        "\n",
        "# Create a DataFrame with student data\n",
        "student_data = {\n",
        "    'student_id': [1, 2, 3, 4, 5, 6],\n",
        "    'course': ['Math', 'Science', 'Math', 'Science', 'English', 'English'],\n",
        "    'score1': [85, 78, 92, 65, 70, 88],\n",
        "    'score2': [90, 82, 87, 73, 75, 92]\n",
        "}\n",
        "student_df = pd.DataFrame(student_data)\n",
        "\n",
        "# Group by 'course' and 'student_id' and calculate the mean of scores\n",
        "mean_scores = student_df.groupby(['course', 'student_id'])[['score1', 'score2']].mean()\n",
        "\n",
        "print(mean_scores)\n",
        "\n"
      ],
      "id": "2p6HydpzUIfK"
    },
    {
      "cell_type": "code",
      "execution_count": 93,
      "metadata": {
        "id": "K0IPfvYJUIfL",
        "colab": {
          "base_uri": "https://localhost:8080/"
        },
        "outputId": "156092f0-db44-45b5-96db-41cd0515d21d"
      },
      "outputs": [
        {
          "output_type": "stream",
          "name": "stdout",
          "text": [
            "Minimum scores for each student in each course:\n",
            "                    score1  score2\n",
            "course  student_id                \n",
            "English 5               70      75\n",
            "        6               88      92\n",
            "Math    1               85      90\n",
            "        3               92      87\n",
            "Science 2               78      82\n",
            "        4               65      73\n",
            "\n",
            "Maximum scores for each student in each course:\n",
            "                    score1  score2\n",
            "course  student_id                \n",
            "English 5               70      75\n",
            "        6               88      92\n",
            "Math    1               85      90\n",
            "        3               92      87\n",
            "Science 2               78      82\n",
            "        4               65      73\n"
          ]
        }
      ],
      "source": [
        "# Use Groupby of any 2 columns with aggregate min() and max()\n",
        "import pandas as pd\n",
        "\n",
        "# ... (Assuming you have created the student_df DataFrame in the previous step)\n",
        "\n",
        "# Group by 'course' and 'student_id' and find min and max scores\n",
        "min_scores = student_df.groupby(['course', 'student_id'])[['score1', 'score2']].min()\n",
        "max_scores = student_df.groupby(['course', 'student_id'])[['score1', 'score2']].max()\n",
        "\n",
        "print(\"Minimum scores for each student in each course:\")\n",
        "print(min_scores)\n",
        "\n",
        "print(\"\\nMaximum scores for each student in each course:\")\n",
        "print(max_scores)"
      ],
      "id": "K0IPfvYJUIfL"
    }
  ],
  "metadata": {
    "colab": {
      "provenance": [],
      "toc_visible": true
    },
    "kernelspec": {
      "display_name": "Python 3",
      "language": "python",
      "name": "python3"
    },
    "language_info": {
      "codemirror_mode": {
        "name": "ipython",
        "version": 3
      },
      "file_extension": ".py",
      "mimetype": "text/x-python",
      "name": "python",
      "nbconvert_exporter": "python",
      "pygments_lexer": "ipython3",
      "version": "3.7.4"
    }
  },
  "nbformat": 4,
  "nbformat_minor": 5
}